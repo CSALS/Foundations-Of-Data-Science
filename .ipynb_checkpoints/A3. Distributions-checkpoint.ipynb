{
 "cells": [
  {
   "cell_type": "code",
   "execution_count": 23,
   "metadata": {},
   "outputs": [],
   "source": [
    "import numpy as np\n",
    "from scipy.special import gamma\n",
    "import matplotlib.pyplot as plt"
   ]
  },
  {
   "cell_type": "code",
   "execution_count": 24,
   "metadata": {},
   "outputs": [],
   "source": [
    "def beta_pdf(a, b, mu):\n",
    "    pdf = (gamma(a + b) / (gamma(a) * gamma(b))) * (mu ** (a - 1)) * ((1 - mu) ** (b - 1))\n",
    "    return pdf"
   ]
  },
  {
   "cell_type": "code",
   "execution_count": 25,
   "metadata": {},
   "outputs": [],
   "source": [
    "def data_set(mean, size):\n",
    "    # If N = 1 then binomial becomes bernoulli distribution\n",
    "    return np.random.binomial(1, mean, size)"
   ]
  },
  {
   "cell_type": "code",
   "execution_count": 26,
   "metadata": {},
   "outputs": [],
   "source": [
    "def beta_distribution(a, b):\n",
    "    return np.unique(np.random.beta(a, b, 10000))"
   ]
  },
  {
   "cell_type": "code",
   "execution_count": 27,
   "metadata": {},
   "outputs": [],
   "source": [
    "def plot_beta_distribution(a, b, index, posterior):\n",
    "    points = beta_distribution(a, b)\n",
    "    X = points.tolist()\n",
    "    Y = []\n",
    "    for x in X:\n",
    "        Y.append(beta_pdf(a, b, x))\n",
    "    \n",
    "    X = np.asarray(X)\n",
    "    Y = np.asarray(Y)\n",
    "    if posterior == True:\n",
    "        plt.clf()\n",
    "        plt.title(\"Posterior Distribution of μ with a {} and b {}\".format(a, b))\n",
    "        plt.xlabel(\"μ\")\n",
    "        plt.ylabel(\"P(μ|D)\")\n",
    "        plt.plot(X, Y)\n",
    "        #plt.show()\n",
    "        image_name = \"assets/\" + str(index) + \".JPG\"\n",
    "        plt.savefig(image_name)\n",
    "    else:\n",
    "        plt.clf()\n",
    "        plt.title(\"Prior Distribution of μ with a {} and b {}\".format(a, b))\n",
    "        plt.xlabel(\"μ\")\n",
    "        plt.ylabel(\"P(μ)\")\n",
    "        plt.plot(X, Y)\n",
    "        #plt.show()\n",
    "        image_name = \"assets/\" + str(index) + \".JPG\"\n",
    "        plt.savefig(image_name)\n",
    "    plt.clf()"
   ]
  },
  {
   "cell_type": "code",
   "execution_count": 28,
   "metadata": {},
   "outputs": [],
   "source": [
    "\"\"\"\n",
    "    Prior (a, b) beta distribution parameters\n",
    "    Posterior (a + m, b + l) beta distribution parameters where m is number of 1s and b is number of 0s\n",
    "\"\"\"\n",
    "def sequential_learning(likelihood_mean, likelihood_size, prior_mean):\n",
    "    # Generate dataset of 1s and 0s for bernoulli distribution\n",
    "    data_points = data_set(likelihood_mean, likelihood_size)\n",
    "    # Prior Distribution parameters\n",
    "    a = prior_mean * 10\n",
    "    b = (1 - prior_mean) * 10\n",
    "    # Plot Prior Distribution\n",
    "    plot_beta_distribution(a, b, \"prior_sequential\", False)\n",
    "    for index, x in enumerate(data_points):\n",
    "        # a -> a + m where m is number of 1s and b -> b + l where l is number of 0s\n",
    "        if x == 1:\n",
    "            a += 1\n",
    "        else :\n",
    "            b += 1\n",
    "        # Plot Posterior Distribution\n",
    "        plot_beta_distribution(a, b, index, True)"
   ]
  },
  {
   "cell_type": "code",
   "execution_count": 29,
   "metadata": {
    "scrolled": true
   },
   "outputs": [
    {
     "data": {
      "text/plain": [
       "<Figure size 432x288 with 0 Axes>"
      ]
     },
     "metadata": {},
     "output_type": "display_data"
    }
   ],
   "source": [
    "sequential_learning(0.5, 160, 0.4)"
   ]
  },
  {
   "cell_type": "code",
   "execution_count": 30,
   "metadata": {},
   "outputs": [],
   "source": [
    "# Generating GIF\n",
    "import imageio\n",
    "images = []\n",
    "filenames = []\n",
    "for i in range(0, 160, 1):\n",
    "    filenames.append(\"assets/{}.JPG\".format(i))\n",
    "for filename in filenames:\n",
    "    images.append(imageio.imread(filename))\n",
    "imageio.mimsave('assets/posterior_sequential.gif', images, duration = 0.1)"
   ]
  },
  {
   "cell_type": "code",
   "execution_count": 31,
   "metadata": {},
   "outputs": [],
   "source": [
    "# Deleting 0-159 images\n",
    "import os\n",
    "for file in filenames:\n",
    "    os.remove(file)"
   ]
  },
  {
   "cell_type": "code",
   "execution_count": 32,
   "metadata": {},
   "outputs": [],
   "source": [
    "def entire_dataset(likelihood_mean, likelihood_size, prior_mean):\n",
    "    # Generate dataset of 1s and 0s for bernoulli distribution\n",
    "    data_points = data_set(likelihood_mean, likelihood_size)\n",
    "    # Prior Distribution parameters\n",
    "    a = prior_mean * 10\n",
    "    b = (1 - prior_mean) * 10\n",
    "    # Plot Prior Distribution\n",
    "    plot_beta_distribution(a, b, \"prior_entire\", False)\n",
    "    m = 0\n",
    "    for x in data_points:\n",
    "        # a -> a + m where m is number of 1s and b -> b + l where l is number of 0s\n",
    "        if x == 1:\n",
    "            m += 1\n",
    "    l = likelihood_size - m\n",
    "    # Plot Posterior Distribution\n",
    "    plot_beta_distribution(a + m, b + l, \"posterior_entire\", True)"
   ]
  },
  {
   "cell_type": "code",
   "execution_count": 34,
   "metadata": {},
   "outputs": [
    {
     "data": {
      "text/plain": [
       "<Figure size 432x288 with 0 Axes>"
      ]
     },
     "metadata": {},
     "output_type": "display_data"
    }
   ],
   "source": [
    "entire_dataset(0.3, 160, 0.4)"
   ]
  }
 ],
 "metadata": {
  "kernelspec": {
   "display_name": "Python 3",
   "language": "python",
   "name": "python3"
  },
  "language_info": {
   "codemirror_mode": {
    "name": "ipython",
    "version": 3
   },
   "file_extension": ".py",
   "mimetype": "text/x-python",
   "name": "python",
   "nbconvert_exporter": "python",
   "pygments_lexer": "ipython3",
   "version": "3.7.3"
  },
  "varInspector": {
   "cols": {
    "lenName": 16,
    "lenType": 16,
    "lenVar": 40
   },
   "kernels_config": {
    "python": {
     "delete_cmd_postfix": "",
     "delete_cmd_prefix": "del ",
     "library": "var_list.py",
     "varRefreshCmd": "print(var_dic_list())"
    },
    "r": {
     "delete_cmd_postfix": ") ",
     "delete_cmd_prefix": "rm(",
     "library": "var_list.r",
     "varRefreshCmd": "cat(var_dic_list()) "
    }
   },
   "types_to_exclude": [
    "module",
    "function",
    "builtin_function_or_method",
    "instance",
    "_Feature"
   ],
   "window_display": false
  }
 },
 "nbformat": 4,
 "nbformat_minor": 2
}
