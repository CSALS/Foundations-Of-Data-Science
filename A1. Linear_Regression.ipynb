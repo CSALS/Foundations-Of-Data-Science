{
 "cells": [
  {
   "cell_type": "markdown",
   "metadata": {},
   "source": [
    "<h1>LINEAR REGRESSION</h1>\n",
    "\n",
    "![](assets/linear-regression.png)"
   ]
  },
  {
   "cell_type": "markdown",
   "metadata": {},
   "source": [
    "A regression problem is where the output is a real value like __stock price__, __weights__.\n",
    "\n",
    "In linear regression we assume the __output__ is related to the input variables (which are called __features__) in linear fashion."
   ]
  },
  {
   "cell_type": "markdown",
   "metadata": {},
   "source": [
    "Hypothesis (the value we predict) for a input vector X is given as ![](assets/hypothesis.png) when there are _2 features_ i.e. vector X = [x1 x2]"
   ]
  },
  {
   "cell_type": "markdown",
   "metadata": {},
   "source": [
    "[w0 w1 w2] is called weight vector which we need to find out so that cost is minimal"
   ]
  },
  {
   "cell_type": "markdown",
   "metadata": {},
   "source": [
    "What is cost?\n",
    "__Cost function__ is the average sum of absolute squares of the predicted value and actual value for all training input vectors"
   ]
  },
  {
   "cell_type": "markdown",
   "metadata": {},
   "source": [
    "![](assets/cost-function.png)"
   ]
  },
  {
   "cell_type": "markdown",
   "metadata": {},
   "source": [
    "We can take partial derivates w.r.t w0, w1, w2 and equate them to 0 and solve the three simultaneous equations to find out the weight values for at which cost function is minimum. But in real world scenarios, there are lot of features so solving those many equations is impractical."
   ]
  },
  {
   "cell_type": "markdown",
   "metadata": {},
   "source": [
    "So the approaches we are going to take :-\n",
    "1. Gradient Descent\n",
    "2. Stochastic Gradient Descent\n",
    "3. Gradient Descent along with L1 and L2 regularizations\n",
    "4. Normal Equations"
   ]
  },
  {
   "cell_type": "markdown",
   "metadata": {},
   "source": [
    "The problem statement :-\n",
    "\n",
    "<h3>Predict altitude values given longtitude and latitude values</h3>"
   ]
  },
  {
   "cell_type": "markdown",
   "metadata": {},
   "source": [
    "The dataset we are going to use is [link](https://archive.ics.uci.edu/ml/datasets/3D+Road+Network+(North+Jutland%2C+Denmark))"
   ]
  },
  {
   "cell_type": "markdown",
   "metadata": {},
   "source": [
    "We are going to implement all those 4 methods from scratch in python without using any external APIs like scikit-learn.\n",
    "\n",
    "However we are going to use\n",
    "* pandas library for data reading purposes\n",
    "* numpy library for all data manipulation purposes\n",
    "* matplotlib library to plot the results"
   ]
  },
  {
   "cell_type": "code",
   "execution_count": 12,
   "metadata": {},
   "outputs": [],
   "source": [
    "import pandas as pd\n",
    "import numpy as np\n",
    "import matplotlib.pyplot as plt\n",
    "%matplotlib inline"
   ]
  },
  {
   "cell_type": "code",
   "execution_count": 13,
   "metadata": {},
   "outputs": [],
   "source": [
    "df = pd.read_csv(\"assets/dataset.txt\", sep = \",\", names = [\"id\", \"longtitude\", \"latitude\", \"altitude\"])"
   ]
  },
  {
   "cell_type": "code",
   "execution_count": 14,
   "metadata": {},
   "outputs": [
    {
     "data": {
      "text/html": [
       "<div>\n",
       "<style scoped>\n",
       "    .dataframe tbody tr th:only-of-type {\n",
       "        vertical-align: middle;\n",
       "    }\n",
       "\n",
       "    .dataframe tbody tr th {\n",
       "        vertical-align: top;\n",
       "    }\n",
       "\n",
       "    .dataframe thead th {\n",
       "        text-align: right;\n",
       "    }\n",
       "</style>\n",
       "<table border=\"1\" class=\"dataframe\">\n",
       "  <thead>\n",
       "    <tr style=\"text-align: right;\">\n",
       "      <th></th>\n",
       "      <th>id</th>\n",
       "      <th>longtitude</th>\n",
       "      <th>latitude</th>\n",
       "      <th>altitude</th>\n",
       "    </tr>\n",
       "  </thead>\n",
       "  <tbody>\n",
       "    <tr>\n",
       "      <th>0</th>\n",
       "      <td>144552912</td>\n",
       "      <td>9.349849</td>\n",
       "      <td>56.740876</td>\n",
       "      <td>17.052772</td>\n",
       "    </tr>\n",
       "    <tr>\n",
       "      <th>1</th>\n",
       "      <td>144552912</td>\n",
       "      <td>9.350188</td>\n",
       "      <td>56.740679</td>\n",
       "      <td>17.614840</td>\n",
       "    </tr>\n",
       "    <tr>\n",
       "      <th>2</th>\n",
       "      <td>144552912</td>\n",
       "      <td>9.350549</td>\n",
       "      <td>56.740544</td>\n",
       "      <td>18.083536</td>\n",
       "    </tr>\n",
       "    <tr>\n",
       "      <th>3</th>\n",
       "      <td>144552912</td>\n",
       "      <td>9.350806</td>\n",
       "      <td>56.740484</td>\n",
       "      <td>18.279465</td>\n",
       "    </tr>\n",
       "    <tr>\n",
       "      <th>4</th>\n",
       "      <td>144552912</td>\n",
       "      <td>9.351053</td>\n",
       "      <td>56.740486</td>\n",
       "      <td>18.422974</td>\n",
       "    </tr>\n",
       "  </tbody>\n",
       "</table>\n",
       "</div>"
      ],
      "text/plain": [
       "          id  longtitude   latitude   altitude\n",
       "0  144552912    9.349849  56.740876  17.052772\n",
       "1  144552912    9.350188  56.740679  17.614840\n",
       "2  144552912    9.350549  56.740544  18.083536\n",
       "3  144552912    9.350806  56.740484  18.279465\n",
       "4  144552912    9.351053  56.740486  18.422974"
      ]
     },
     "execution_count": 14,
     "metadata": {},
     "output_type": "execute_result"
    }
   ],
   "source": [
    "df.head()"
   ]
  },
  {
   "cell_type": "code",
   "execution_count": 43,
   "metadata": {},
   "outputs": [],
   "source": [
    "'''\n",
    "    Feature Scaling :- Using Standardization\n",
    "'''\n",
    "# df = (df - df.mean())/df.std()\n",
    "df = (df - df.min())/(df.max() - df.min())"
   ]
  },
  {
   "cell_type": "code",
   "execution_count": null,
   "metadata": {},
   "outputs": [],
   "source": []
  },
  {
   "cell_type": "code",
   "execution_count": 44,
   "metadata": {},
   "outputs": [],
   "source": [
    "valueArray = df.to_numpy()"
   ]
  },
  {
   "cell_type": "code",
   "execution_count": 45,
   "metadata": {},
   "outputs": [],
   "source": [
    "#Splitting dataset using 70-30 cross validation technique\n",
    "train_size = int(0.7 * valueArray.shape[0])\n",
    "train_X = valueArray[0:train_size, 1:3]\n",
    "train_X = np.insert(train_X,0,1,axis=1) #Adding bias\n",
    "train_Y = valueArray[0:train_size, 3:]\n",
    "test_X = valueArray[train_size:, 1:3]\n",
    "test_X = np.insert(test_X,0,1,axis=1) #Adding bias\n",
    "test_Y = valueArray[train_size:, 3:]"
   ]
  },
  {
   "cell_type": "code",
   "execution_count": 46,
   "metadata": {},
   "outputs": [],
   "source": [
    "# Testing metrics\n",
    "train_RMSE = {}\n",
    "train_R2 = {}\n",
    "test_RMSE = {}\n",
    "test_R2 = {}\n",
    "def RMSE(actualY, predictedY):\n",
    "    N = actualY.shape[0]\n",
    "    RMSE = np.sqrt(np.sum((np.power(actualY - predictedY, 2)/N), axis = 0))\n",
    "    return RMSE\n",
    "def R2(actualY, predictedY):\n",
    "    meanY = np.mean(actualY, axis = 0)\n",
    "    TSS = np.sum(np.power(actualY - meanY, 2), axis = 0)\n",
    "    RSS = np.sum(np.power(actualY - predictedY, 2), axis = 0)\n",
    "    return (1 - RSS/TSS)\n",
    "def get_cost(X, Y, W):\n",
    "        temp = (X@W.T) - Y\n",
    "        total_cost = (temp.T @ temp)\n",
    "        return (0.5/X.shape[0])*total_cost"
   ]
  },
  {
   "cell_type": "code",
   "execution_count": 21,
   "metadata": {},
   "outputs": [],
   "source": [
    "def gradientDescent(X, Y, alpha, maxIterations, weights):\n",
    "    \"\"\"\n",
    "    This function implements all the batch gradient descent with no regularization.\n",
    "    At each iteration all the weights are updated with gradient calculated\n",
    "    over all training points\n",
    "    \"\"\"\n",
    "    # Training\n",
    "    costs = []\n",
    "    iters = []\n",
    "    trainX = X\n",
    "    trainY = Y\n",
    "    m = trainX.shape[0]\n",
    "    prevCost, currCost = 0.0, 0.0\n",
    "    for iteration in range(maxIterations):\n",
    "        gradient = np.sum(trainX * (trainX @ weights.T - trainY), axis=0)\n",
    "        currCost = np.sum(np.power(((trainX @ weights.T) - trainY),2))/(2 * m)\n",
    "        weights = weights - (alpha/m) * gradient\n",
    "        #Plotting loss over train set for every 20 iterations\n",
    "        if iteration % 20 == 0:\n",
    "            costs.append(currCost)\n",
    "            iters.append(iteration + 1)\n",
    "        #Stopping Criterion\n",
    "        if iteration != 0 and abs(prevCost - currCost) < 1e-10:\n",
    "            break\n",
    "        prevCost = currCost\n",
    "    print(\"Optimal Cost is {}\".format(currCost))\n",
    "    print(\"Converting at {}th iteration with learning rate {}\".format(iteration+1,alpha))\n",
    "    plt.title(\"Gradient Descent\")\n",
    "    plt.xlabel(\"No Of Iterations\")\n",
    "    plt.ylabel(\"Cost\")\n",
    "    plt.plot(iters,costs)\n",
    "    plt.show()\n",
    "    train_RMSE['batch'] = RMSE(Y, X.dot(weights.T))[0]\n",
    "    train_R2['batch'] = R2(Y, X.dot(weights.T))[0]\n",
    "    # Testing\n",
    "    predicted_Y = test_X.dot(weights.T)\n",
    "    test_RMSE['batch'] = RMSE(test_Y, predicted_Y)[0]\n",
    "    test_R2['batch'] = R2(test_Y, predicted_Y)[0]\n",
    "    return weights"
   ]
  },
  {
   "cell_type": "code",
   "execution_count": 22,
   "metadata": {
    "scrolled": true
   },
   "outputs": [
    {
     "name": "stdout",
     "output_type": "stream",
     "text": [
      "(304411, 3) (304411, 1)\n",
      "(3,)\n",
      "Optimal Cost is 0.5103830690889412\n",
      "Converting at 1th iteration with learning rate 0.01\n"
     ]
    },
    {
     "data": {
      "image/png": "[encoded data removed]",
      "text/plain": [
       "<Figure size 432x288 with 1 Axes>"
      ]
     },
     "metadata": {
      "needs_background": "light"
     },
     "output_type": "display_data"
    }
   ],
   "source": [
    "batch_weights = gradientDescent(train_X, train_Y, 0.01, 2000, np.zeros([1,3]))"
   ]
  },
  {
   "cell_type": "code",
   "execution_count": 47,
   "metadata": {},
   "outputs": [],
   "source": [
    "validation_loss = []\n",
    "reg_parameters = []\n",
    "def gradientDescentWithL1Regularization(X, Y, alpha, maxIterations, weights, regParameter):\n",
    "    \"\"\"\n",
    "    This function implements the gradient descents with L1 norm regularization.\n",
    "    At each iteration all the weights are updated with gradient calculated\n",
    "    over all training points\n",
    "    \"\"\"\n",
    "    # Training\n",
    "    costs = []\n",
    "    iters = []    \n",
    "    shuffledData = np.concatenate((X, Y), axis = 1)\n",
    "    np.random.shuffle(shuffledData)\n",
    "    validationSize = int(0.1 * X.shape[0])\n",
    "    validationX = X[0:validationSize]\n",
    "    trainX = X[validationSize:]\n",
    "    validationY =  Y[0:validationSize]\n",
    "    trainY = Y[validationSize:]\n",
    "    m = trainX.shape[0]\n",
    "    prevCost, currCost = 0.0, 0.0\n",
    "    for iteration in range(maxIterations):\n",
    "        c = (regParameter)/(2 * m)\n",
    "        gradient = np.sum(trainX * (trainX @ weights.T - trainY), axis=0) + np.sign(weights)\n",
    "        weightList = [weights[0][0], weights[0][1], weights[0][2]]\n",
    "        weightList = np.asarray(weightList)\n",
    "        currCost = np.sum(np.power(((trainX @ weights.T) - trainY),2))/(2 * m) + regParameter/(2 * m) * np.linalg.norm(weightList, 1) \n",
    "        weights = weights - (alpha/m) * gradient\n",
    "        #Plotting loss over train set for every 20 iterations\n",
    "        if iteration%20 == 0:\n",
    "            costs.append(currCost)\n",
    "            iters.append(iteration + 1) \n",
    "        #Stopping Criterion\n",
    "        if iteration != 0 and abs(prevCost - currCost) < 1e-10:\n",
    "            break\n",
    "        prevCost = currCost\n",
    "    # Find loss over validation set\n",
    "    weightList = [weights[0][0], weights[0][1], weights[0][2]]\n",
    "    weightList = np.asarray(weightList)\n",
    "    validation_cost = np.sum(np.power(((validationX @ weights.T) - validationY),2))/(2 * m) + regParameter/(2 * m) * np.linalg.norm(weightList, 1)\n",
    "    validation_loss.append(validation_cost)\n",
    "    reg_parameters.append(regParameter)\n",
    "    # Printing the results\n",
    "    print(\"Optimal Cost is {}\".format(currCost))\n",
    "    print(\"Converting at {}th iteration with learning rate {} and {} regularization parameter\".format(iteration+1,alpha,regParameter))\n",
    "    plt.title(\"Gradient Descent\")\n",
    "    plt.xlabel(\"No Of Iterations\")\n",
    "    plt.ylabel(\"Cost\")\n",
    "    plt.plot(iters,costs)\n",
    "    plt.show()\n",
    "    train_RMSE['l1'] = RMSE(Y, X.dot(weights.T))[0]\n",
    "    train_R2['l1'] = R2(Y, X.dot(weights.T))[0]\n",
    "    # Testing\n",
    "    predicted_Y = test_X.dot(weights.T)\n",
    "    test_RMSE['l1'] = RMSE(test_Y, predicted_Y)[0]\n",
    "    test_R2['l1'] = R2(test_Y, predicted_Y)[0]\n",
    "    return weights"
   ]
  },
  {
   "cell_type": "code",
   "execution_count": null,
   "metadata": {},
   "outputs": [
    {
     "name": "stdout",
     "output_type": "stream",
     "text": [
      "Optimal Cost is 0.008546739829946083\n",
      "Converting at 2000th iteration with learning rate 0.02 and -3.5 regularization parameter\n"
     ]
    },
    {
     "data": {
      "image/png": "[encoded data removed]",
      "text/plain": [
       "<Figure size 432x288 with 1 Axes>"
      ]
     },
     "metadata": {
      "needs_background": "light"
     },
     "output_type": "display_data"
    },
    {
     "name": "stdout",
     "output_type": "stream",
     "text": [
      "Optimal Cost is 0.008547959931781928\n",
      "Converting at 2000th iteration with learning rate 0.02 and -1.5 regularization parameter\n"
     ]
    },
    {
     "data": {
      "image/png": "[encoded data removed]",
      "text/plain": [
       "<Figure size 432x288 with 1 Axes>"
      ]
     },
     "metadata": {
      "needs_background": "light"
     },
     "output_type": "display_data"
    }
   ],
   "source": [
    "lis = [-3.5, -1.5 ,0.2 ,0.4 ,0.6 ,1.0]\n",
    "for reg in lis:\n",
    "    L1_weights = gradientDescentWithL1Regularization(train_X, train_Y, 0.02, 2000, np.zeros([1,3]), reg)\n",
    "plt.title(\"L1 Regularization\")\n",
    "plt.xlabel(\"Regularization Parameter\")\n",
    "plt.ylabel(\"Validation Loss\")\n",
    "plt.plot(reg_parameters, validation_loss)"
   ]
  },
  {
   "cell_type": "code",
   "execution_count": 40,
   "metadata": {},
   "outputs": [],
   "source": [
    "validation_loss = []\n",
    "reg_parameters = []\n",
    "def gradientDescentWithL2Regularization(X, Y, alpha, maxIterations, weights, regParameter):\n",
    "    \"\"\"\n",
    "    This function implements the gradient descents with L2 norm regularization.\n",
    "    At each iteration all the weights are updated with gradient calculated\n",
    "    over all training points. \n",
    "    \"\"\"\n",
    "    # Training\n",
    "    costs = []\n",
    "    iters = []    \n",
    "    shuffledData = np.concatenate((X, Y), axis = 1)\n",
    "    np.random.shuffle(shuffledData)\n",
    "    validationSize = int(0.1 * X.shape[0])\n",
    "    validationX = X[0:validationSize]\n",
    "    trainX = X[validationSize:]\n",
    "    validationY =  Y[0:validationSize]\n",
    "    trainY = Y[validationSize:]\n",
    "    m = trainX.shape[0]\n",
    "    prevCost, currCost = 0.0, 0.0\n",
    "    for iteration in range(maxIterations):\n",
    "        gradient = np.sum(trainX * (trainX @ weights.T - trainY), axis=0)\n",
    "        weightList = [weights[0][0], weights[0][1], weights[0][2]]\n",
    "        weightList = np.asarray(weightList)\n",
    "        currCost = np.sum(np.power(((trainX @ weights.T) - trainY),2))/(2 * m) + regParameter/(2 * m) * np.power(np.linalg.norm(weightList, 2),2) \n",
    "        weights = (1 - alpha*regParameter/m)*weights - (alpha/m) * gradient\n",
    "        #Plotting loss over train set for every 20 iterations\n",
    "        if iteration%20 == 0:\n",
    "            costs.append(currCost)\n",
    "            iters.append(iteration + 1)\n",
    "        #Stopping Criterion\n",
    "        if iteration != 0 and abs(prevCost - currCost) < 1e-10:\n",
    "            break\n",
    "        prevCost = currCost\n",
    "     # Find loss over validation set\n",
    "    weightList = [weights[0][0], weights[0][1], weights[0][2]]\n",
    "    weightList = np.asarray(weightList)\n",
    "    validation_cost = np.sum(np.power(((validationX @ weights.T) - validationY),2))/(2 * m) + regParameter/(2 * m) * np.power(np.linalg.norm(weightList, 2),2) \n",
    "    validation_loss.append(validation_cost)\n",
    "    reg_parameters.append(regParameter)\n",
    "    # Printing the results\n",
    "    print(\"Optimal Cost is {}\".format(currCost))\n",
    "    print(\"Converting at {}th iteration with learning rate {} and {} regularization parameter\".format(iteration+1,alpha,regParameter))                             \n",
    "    plt.title(\"Gradient Descent\")\n",
    "    plt.xlabel(\"No Of Iterations\")\n",
    "    plt.ylabel(\"Cost\")\n",
    "    plt.plot(iters,costs)\n",
    "    plt.show()\n",
    "    train_RMSE['l2'] = RMSE(Y, X.dot(weights.T))[0]\n",
    "    train_R2['l2'] = R2(Y, X.dot(weights.T))[0]\n",
    "    # Testing\n",
    "    predicted_Y = test_X.dot(weights.T)\n",
    "    test_RMSE['l2'] = RMSE(test_Y, predicted_Y)[0]\n",
    "    test_R2['l2'] = R2(test_Y, predicted_Y)[0]\n",
    "    return weights"
   ]
  },
  {
   "cell_type": "code",
   "execution_count": 41,
   "metadata": {
    "scrolled": true
   },
   "outputs": [
    {
     "name": "stdout",
     "output_type": "stream",
     "text": [
      "Optimal Cost is 0.5034403105733078\n",
      "Converting at 369th iteration with learning rate 0.05 and -3.5 regularization parameter\n"
     ]
    },
    {
     "data": {
      "image/png": "[encoded data removed]",
      "text/plain": [
       "<Figure size 432x288 with 1 Axes>"
      ]
     },
     "metadata": {
      "needs_background": "light"
     },
     "output_type": "display_data"
    },
    {
     "name": "stdout",
     "output_type": "stream",
     "text": [
      "Optimal Cost is 0.5034405044572426\n",
      "Converting at 369th iteration with learning rate 0.05 and -1.5 regularization parameter\n"
     ]
    },
    {
     "data": {
      "image/png": "[encoded data removed]",
      "text/plain": [
       "<Figure size 432x288 with 1 Axes>"
      ]
     },
     "metadata": {
      "needs_background": "light"
     },
     "output_type": "display_data"
    },
    {
     "name": "stdout",
     "output_type": "stream",
     "text": [
      "Optimal Cost is 0.5034406692532478\n",
      "Converting at 369th iteration with learning rate 0.05 and 0.2 regularization parameter\n"
     ]
    },
    {
     "data": {
      "image/png": "[encoded data removed]",
      "text/plain": [
       "<Figure size 432x288 with 1 Axes>"
      ]
     },
     "metadata": {
      "needs_background": "light"
     },
     "output_type": "display_data"
    },
    {
     "name": "stdout",
     "output_type": "stream",
     "text": [
      "Optimal Cost is 0.5034406886406904\n",
      "Converting at 369th iteration with learning rate 0.05 and 0.4 regularization parameter\n"
     ]
    },
    {
     "data": {
      "image/png": "[encoded data removed]",
      "text/plain": [
       "<Figure size 432x288 with 1 Axes>"
      ]
     },
     "metadata": {
      "needs_background": "light"
     },
     "output_type": "display_data"
    },
    {
     "name": "stdout",
     "output_type": "stream",
     "text": [
      "Optimal Cost is 0.5034407080280653\n",
      "Converting at 369th iteration with learning rate 0.05 and 0.6 regularization parameter\n"
     ]
    },
    {
     "data": {
      "image/png": "[encoded data removed]",
      "text/plain": [
       "<Figure size 432x288 with 1 Axes>"
      ]
     },
     "metadata": {
      "needs_background": "light"
     },
     "output_type": "display_data"
    },
    {
     "name": "stdout",
     "output_type": "stream",
     "text": [
      "Optimal Cost is 0.5034407468026114\n",
      "Converting at 369th iteration with learning rate 0.05 and 1.0 regularization parameter\n"
     ]
    },
    {
     "data": {
      "image/png": "[encoded data removed]",
      "text/plain": [
       "<Figure size 432x288 with 1 Axes>"
      ]
     },
     "metadata": {
      "needs_background": "light"
     },
     "output_type": "display_data"
    },
    {
     "data": {
      "text/plain": [
       "[<matplotlib.lines.Line2D at 0x24d21eebd68>]"
      ]
     },
     "execution_count": 41,
     "metadata": {},
     "output_type": "execute_result"
    },
    {
     "data": {
      "image/png": "[encoded data removed]",
      "text/plain": [
       "<Figure size 432x288 with 1 Axes>"
      ]
     },
     "metadata": {
      "needs_background": "light"
     },
     "output_type": "display_data"
    }
   ],
   "source": [
    "lis = [-3.5, -1.5, 0.2 ,0.4 ,0.6 ,1.0]\n",
    "for reg in lis:\n",
    "    L2_weights = gradientDescentWithL2Regularization(train_X, train_Y, 0.05, 2500, np.zeros([1,3]), reg)\n",
    "plt.title(\"L2 Regularization\")\n",
    "plt.xlabel(\"Regularization Parameter\")\n",
    "plt.ylabel(\"Validation Loss\")\n",
    "plt.plot(reg_parameters, validation_loss)"
   ]
  },
  {
   "cell_type": "code",
   "execution_count": null,
   "metadata": {},
   "outputs": [],
   "source": [
    "def normalEquations(X, Y):\n",
    "    \"\"\"\n",
    "    This function implements vectorization based linear regression.\n",
    "    AW = B where A = X^T.X, B = X^T.Y. This is known as Normal Equation\n",
    "    W = inv(A).B\n",
    "    \"\"\"  \n",
    "    # Training\n",
    "    trainX = X\n",
    "    trainY = Y\n",
    "    A = trainX.T.dot(trainX)\n",
    "    B = trainX.T.dot(trainY)\n",
    "    weights = np.linalg.inv(A).dot(B)\n",
    "    train_RMSE['normal'] = RMSE(Y, X.dot(weights))[0]\n",
    "    train_R2['normal'] = R2(Y, X.dot(weights))[0]\n",
    "    # Testing\n",
    "    predicted_Y = test_X.dot(weights)\n",
    "    test_RMSE['normal'] = RMSE(test_Y, predicted_Y)[0]\n",
    "    test_R2['normal'] = R2(test_Y, predicted_Y)[0]\n",
    "    return weights"
   ]
  },
  {
   "cell_type": "code",
   "execution_count": null,
   "metadata": {},
   "outputs": [],
   "source": [
    "normal_weights = normalEquations(train_X, train_Y)"
   ]
  },
  {
   "cell_type": "code",
   "execution_count": 116,
   "metadata": {},
   "outputs": [],
   "source": [
    "def stochasticGradientDescent(X, Y, alpha, maxIterations, weights):\n",
    "    \"\"\"\n",
    "    This function implements stochastic gradient descent.\n",
    "    In each iteration, gradient is calculated w.r.t. each training example\n",
    "    so weights are updated 'm' times in each iteration.\n",
    "    Every iteration :-\n",
    "        Random shuffle training set.\n",
    "        For each point in trainig set calculate gradient and update weights according to it.\n",
    "    \"\"\"\n",
    "    # Training\n",
    "    costs = []\n",
    "    iters = []\n",
    "    prevCost, currCost = 0.0, 0.0\n",
    "    for iteration in range(maxIterations):\n",
    "        shuffledData = np.concatenate((X, Y), axis = 1)\n",
    "        np.random.shuffle(shuffledData)\n",
    "        trainX = shuffledData[:, 0 : 3]\n",
    "        trainY = shuffledData[:, 3 :]\n",
    "        m = trainX.shape[0]\n",
    "        for index in range(m):\n",
    "            gradient = trainX[index].dot(weights.T) - trainY[index]\n",
    "            weights = weights - (alpha/m) * (gradient * trainX[index])\n",
    "            currCost = np.sum(np.power(((trainX @ weights.T) - trainY),2))/(2 * m)\n",
    "            \n",
    "        if iteration % 20 == 0:\n",
    "            costs.append(currCost)\n",
    "            iters.append(iteration + 1)    \n",
    "        #Stopping Criterion\n",
    "        if iteration != 0 and abs(prevCost - currCost) < 1e-10:\n",
    "            break\n",
    "        prevCost = currCost\n",
    "        \n",
    "    print(\"Optimal Cost is {}\".format(currCost))\n",
    "    print(\"Converting at {}th iteration with learning rate {}\".format(iteration+1,alpha))        \n",
    "    plt.title(\"Stochastic Gradient Descent\")\n",
    "    plt.xlabel(\"No Of Iterations\")\n",
    "    plt.ylabel(\"Cost\")\n",
    "    plt.plot(iters,costs)\n",
    "    plt.show()\n",
    "    train_RMSE['stochastic'] = RMSE(Y, X.dot(weights.T))[0]\n",
    "    train_R2['stochastic'] = R2(Y, X.dot(weights.T))[0]\n",
    "    # Testing\n",
    "    predicted_Y = test_X.dot(weights.T)\n",
    "    test_RMSE['stochastic'] = RMSE(test_Y, predicted_Y)[0]\n",
    "    test_R2['stochastic'] = R2(test_Y, predicted_Y)[0]\n",
    "    return weights"
   ]
  },
  {
   "cell_type": "code",
   "execution_count": 117,
   "metadata": {},
   "outputs": [
    {
     "ename": "KeyboardInterrupt",
     "evalue": "",
     "output_type": "error",
     "traceback": [
      "\u001b[1;31m---------------------------------------------------------------------------\u001b[0m",
      "\u001b[1;31mKeyboardInterrupt\u001b[0m                         Traceback (most recent call last)",
      "\u001b[1;32m<ipython-input-117-216a768f3aae>\u001b[0m in \u001b[0;36m<module>\u001b[1;34m\u001b[0m\n\u001b[1;32m----> 1\u001b[1;33m \u001b[0mstochastic_weights\u001b[0m \u001b[1;33m=\u001b[0m \u001b[0mstochasticGradientDescent\u001b[0m\u001b[1;33m(\u001b[0m\u001b[0mtrain_X\u001b[0m\u001b[1;33m,\u001b[0m \u001b[0mtrain_Y\u001b[0m\u001b[1;33m,\u001b[0m \u001b[1;36m0.03\u001b[0m\u001b[1;33m,\u001b[0m \u001b[1;36m50\u001b[0m\u001b[1;33m,\u001b[0m \u001b[0mnp\u001b[0m\u001b[1;33m.\u001b[0m\u001b[0mzeros\u001b[0m\u001b[1;33m(\u001b[0m\u001b[1;33m[\u001b[0m\u001b[1;36m1\u001b[0m\u001b[1;33m,\u001b[0m\u001b[1;36m3\u001b[0m\u001b[1;33m]\u001b[0m\u001b[1;33m)\u001b[0m\u001b[1;33m)\u001b[0m\u001b[1;33m\u001b[0m\u001b[1;33m\u001b[0m\u001b[0m\n\u001b[0m",
      "\u001b[1;32m<ipython-input-116-763a6062eb19>\u001b[0m in \u001b[0;36mstochasticGradientDescent\u001b[1;34m(X, Y, alpha, maxIterations, weights)\u001b[0m\n\u001b[0;32m     21\u001b[0m             \u001b[0mgradient\u001b[0m \u001b[1;33m=\u001b[0m \u001b[0mtrainX\u001b[0m\u001b[1;33m[\u001b[0m\u001b[0mindex\u001b[0m\u001b[1;33m]\u001b[0m\u001b[1;33m.\u001b[0m\u001b[0mdot\u001b[0m\u001b[1;33m(\u001b[0m\u001b[0mweights\u001b[0m\u001b[1;33m.\u001b[0m\u001b[0mT\u001b[0m\u001b[1;33m)\u001b[0m \u001b[1;33m-\u001b[0m \u001b[0mtrainY\u001b[0m\u001b[1;33m[\u001b[0m\u001b[0mindex\u001b[0m\u001b[1;33m]\u001b[0m\u001b[1;33m\u001b[0m\u001b[1;33m\u001b[0m\u001b[0m\n\u001b[0;32m     22\u001b[0m             \u001b[0mweights\u001b[0m \u001b[1;33m=\u001b[0m \u001b[0mweights\u001b[0m \u001b[1;33m-\u001b[0m \u001b[1;33m(\u001b[0m\u001b[0malpha\u001b[0m\u001b[1;33m/\u001b[0m\u001b[0mm\u001b[0m\u001b[1;33m)\u001b[0m \u001b[1;33m*\u001b[0m \u001b[1;33m(\u001b[0m\u001b[0mgradient\u001b[0m \u001b[1;33m*\u001b[0m \u001b[0mtrainX\u001b[0m\u001b[1;33m[\u001b[0m\u001b[0mindex\u001b[0m\u001b[1;33m]\u001b[0m\u001b[1;33m)\u001b[0m\u001b[1;33m\u001b[0m\u001b[1;33m\u001b[0m\u001b[0m\n\u001b[1;32m---> 23\u001b[1;33m             \u001b[0mcurrCost\u001b[0m \u001b[1;33m=\u001b[0m \u001b[0mnp\u001b[0m\u001b[1;33m.\u001b[0m\u001b[0msum\u001b[0m\u001b[1;33m(\u001b[0m\u001b[0mnp\u001b[0m\u001b[1;33m.\u001b[0m\u001b[0mpower\u001b[0m\u001b[1;33m(\u001b[0m\u001b[1;33m(\u001b[0m\u001b[1;33m(\u001b[0m\u001b[0mtrainX\u001b[0m \u001b[1;33m@\u001b[0m \u001b[0mweights\u001b[0m\u001b[1;33m.\u001b[0m\u001b[0mT\u001b[0m\u001b[1;33m)\u001b[0m \u001b[1;33m-\u001b[0m \u001b[0mtrainY\u001b[0m\u001b[1;33m)\u001b[0m\u001b[1;33m,\u001b[0m\u001b[1;36m2\u001b[0m\u001b[1;33m)\u001b[0m\u001b[1;33m)\u001b[0m\u001b[1;33m/\u001b[0m\u001b[1;33m(\u001b[0m\u001b[1;36m2\u001b[0m \u001b[1;33m*\u001b[0m \u001b[0mm\u001b[0m\u001b[1;33m)\u001b[0m\u001b[1;33m\u001b[0m\u001b[1;33m\u001b[0m\u001b[0m\n\u001b[0m\u001b[0;32m     24\u001b[0m \u001b[1;33m\u001b[0m\u001b[0m\n\u001b[0;32m     25\u001b[0m         \u001b[1;32mif\u001b[0m \u001b[0miteration\u001b[0m \u001b[1;33m%\u001b[0m \u001b[1;36m20\u001b[0m \u001b[1;33m==\u001b[0m \u001b[1;36m0\u001b[0m\u001b[1;33m:\u001b[0m\u001b[1;33m\u001b[0m\u001b[1;33m\u001b[0m\u001b[0m\n",
      "\u001b[1;31mKeyboardInterrupt\u001b[0m: "
     ]
    }
   ],
   "source": [
    "stochastic_weights = stochasticGradientDescent(train_X, train_Y, 0.05, 100, np.zeros([1,3]))"
   ]
  },
  {
   "cell_type": "code",
   "execution_count": null,
   "metadata": {},
   "outputs": [],
   "source": [
    "# Results ->"
   ]
  },
  {
   "cell_type": "code",
   "execution_count": 137,
   "metadata": {},
   "outputs": [
    {
     "ename": "KeyError",
     "evalue": "'batch'",
     "output_type": "error",
     "traceback": [
      "\u001b[1;31m---------------------------------------------------------------------------\u001b[0m",
      "\u001b[1;31mKeyError\u001b[0m                                  Traceback (most recent call last)",
      "\u001b[1;32m<ipython-input-137-6f636a042108>\u001b[0m in \u001b[0;36m<module>\u001b[1;34m\u001b[0m\n\u001b[0;32m      2\u001b[0m                     \u001b[1;33m[\u001b[0m\u001b[1;34m'Gradient Descent'\u001b[0m\u001b[1;33m,\u001b[0m \u001b[1;34m'L1 Regularization'\u001b[0m\u001b[1;33m,\u001b[0m \u001b[1;34m'L2 Regularization'\u001b[0m\u001b[1;33m,\u001b[0m\u001b[1;34m'Stochastic GD'\u001b[0m\u001b[1;33m,\u001b[0m\u001b[1;34m'Normal Equations'\u001b[0m\u001b[1;33m]\u001b[0m\u001b[1;33m,\u001b[0m\u001b[1;33m\u001b[0m\u001b[1;33m\u001b[0m\u001b[0m\n\u001b[0;32m      3\u001b[0m                  \u001b[1;34m'RMSE Training data'\u001b[0m\u001b[1;33m:\u001b[0m\u001b[1;33m\u001b[0m\u001b[1;33m\u001b[0m\u001b[0m\n\u001b[1;32m----> 4\u001b[1;33m                     \u001b[1;33m[\u001b[0m\u001b[0mtrain_RMSE\u001b[0m\u001b[1;33m[\u001b[0m\u001b[1;34m'batch'\u001b[0m\u001b[1;33m]\u001b[0m\u001b[1;33m,\u001b[0m \u001b[0mtrain_RMSE\u001b[0m\u001b[1;33m[\u001b[0m\u001b[1;34m'l1'\u001b[0m\u001b[1;33m]\u001b[0m\u001b[1;33m,\u001b[0m \u001b[0mtrain_RMSE\u001b[0m\u001b[1;33m[\u001b[0m\u001b[1;34m'l2'\u001b[0m\u001b[1;33m]\u001b[0m\u001b[1;33m,\u001b[0m \u001b[0mtrain_RMSE\u001b[0m\u001b[1;33m[\u001b[0m\u001b[1;34m'stochastic'\u001b[0m\u001b[1;33m]\u001b[0m\u001b[1;33m,\u001b[0m \u001b[0mtrain_RMSE\u001b[0m\u001b[1;33m[\u001b[0m\u001b[1;34m'normal'\u001b[0m\u001b[1;33m]\u001b[0m\u001b[1;33m]\u001b[0m\u001b[1;33m,\u001b[0m\u001b[1;33m\u001b[0m\u001b[1;33m\u001b[0m\u001b[0m\n\u001b[0m\u001b[0;32m      5\u001b[0m                  \u001b[1;34m'R^2 Training data'\u001b[0m\u001b[1;33m:\u001b[0m\u001b[1;33m\u001b[0m\u001b[1;33m\u001b[0m\u001b[0m\n\u001b[0;32m      6\u001b[0m                     \u001b[1;33m[\u001b[0m\u001b[0mtrain_R2\u001b[0m\u001b[1;33m[\u001b[0m\u001b[1;34m'batch'\u001b[0m\u001b[1;33m]\u001b[0m\u001b[1;33m,\u001b[0m \u001b[0mtrain_R2\u001b[0m\u001b[1;33m[\u001b[0m\u001b[1;34m'l1'\u001b[0m\u001b[1;33m]\u001b[0m\u001b[1;33m,\u001b[0m \u001b[0mtrain_R2\u001b[0m\u001b[1;33m[\u001b[0m\u001b[1;34m'l2'\u001b[0m\u001b[1;33m]\u001b[0m\u001b[1;33m,\u001b[0m \u001b[0mtrain_R2\u001b[0m\u001b[1;33m[\u001b[0m\u001b[1;34m'stochastic'\u001b[0m\u001b[1;33m]\u001b[0m\u001b[1;33m,\u001b[0m \u001b[0mtrain_R2\u001b[0m\u001b[1;33m[\u001b[0m\u001b[1;34m'normal'\u001b[0m\u001b[1;33m]\u001b[0m\u001b[1;33m]\u001b[0m\u001b[1;33m,\u001b[0m\u001b[1;33m\u001b[0m\u001b[1;33m\u001b[0m\u001b[0m\n",
      "\u001b[1;31mKeyError\u001b[0m: 'batch'"
     ]
    }
   ],
   "source": [
    "results_dict = {'Regression Model' : \n",
    "                    ['Gradient Descent', 'L1 Regularization', 'L2 Regularization','Stochastic GD','Normal Equations'],\n",
    "                 'RMSE Training data': \n",
    "                    [train_RMSE['batch'], train_RMSE['l1'], train_RMSE['l2'], train_RMSE['stochastic'], train_RMSE['normal']],\n",
    "                 'R^2 Training data': \n",
    "                    [train_R2['batch'], train_R2['l1'], train_R2['l2'], train_R2['stochastic'], train_R2['normal']],\n",
    "                 'RMSE Testing data': \n",
    "                    [test_RMSE['batch'], test_RMSE['l1'], test_RMSE['l2'], train_RMSE['stochastic'], test_RMSE['normal']], \n",
    "                 'R^2 Testing data': \n",
    "                    [test_R2['batch'], test_R2['l1'], test_R2['l2'], train_R2['stochastic'], test_RMSE['normal']]  \n",
    "                }\n",
    "results_df = pd.DataFrame(data = results_dict)"
   ]
  },
  {
   "cell_type": "code",
   "execution_count": null,
   "metadata": {},
   "outputs": [],
   "source": [
    "print(results_df)"
   ]
  },
  {
   "cell_type": "code",
   "execution_count": 150,
   "metadata": {},
   "outputs": [],
   "source": [
    "results_dict = {'Polynomial Regression' : \n",
    "                    ['Degree 1','Degree 2','Degree 3','Degree 4','Degree 5', 'Degree 6'],\n",
    "                 '        RMSE Training data': \n",
    "                    ['0.000345567', '0.000341332', '0.000335966', '0.000328003', '0.000324792', '0.000324386']\n",
    "                }\n",
    "results_df = pd.DataFrame(data = results_dict)"
   ]
  },
  {
   "cell_type": "code",
   "execution_count": 151,
   "metadata": {},
   "outputs": [
    {
     "data": {
      "text/html": [
       "<div>\n",
       "<style scoped>\n",
       "    .dataframe tbody tr th:only-of-type {\n",
       "        vertical-align: middle;\n",
       "    }\n",
       "\n",
       "    .dataframe tbody tr th {\n",
       "        vertical-align: top;\n",
       "    }\n",
       "\n",
       "    .dataframe thead th {\n",
       "        text-align: right;\n",
       "    }\n",
       "</style>\n",
       "<table border=\"1\" class=\"dataframe\">\n",
       "  <thead>\n",
       "    <tr style=\"text-align: right;\">\n",
       "      <th></th>\n",
       "      <th>Polynomial Regression</th>\n",
       "      <th>RMSE Training data</th>\n",
       "    </tr>\n",
       "  </thead>\n",
       "  <tbody>\n",
       "    <tr>\n",
       "      <th>0</th>\n",
       "      <td>Degree 1</td>\n",
       "      <td>0.000345567</td>\n",
       "    </tr>\n",
       "    <tr>\n",
       "      <th>1</th>\n",
       "      <td>Degree 2</td>\n",
       "      <td>0.000341332</td>\n",
       "    </tr>\n",
       "    <tr>\n",
       "      <th>2</th>\n",
       "      <td>Degree 3</td>\n",
       "      <td>0.000335966</td>\n",
       "    </tr>\n",
       "    <tr>\n",
       "      <th>3</th>\n",
       "      <td>Degree 4</td>\n",
       "      <td>0.000328003</td>\n",
       "    </tr>\n",
       "    <tr>\n",
       "      <th>4</th>\n",
       "      <td>Degree 5</td>\n",
       "      <td>0.000324792</td>\n",
       "    </tr>\n",
       "    <tr>\n",
       "      <th>5</th>\n",
       "      <td>Degree 6</td>\n",
       "      <td>0.000324386</td>\n",
       "    </tr>\n",
       "  </tbody>\n",
       "</table>\n",
       "</div>"
      ],
      "text/plain": [
       "  Polynomial Regression         RMSE Training data\n",
       "0              Degree 1                0.000345567\n",
       "1              Degree 2                0.000341332\n",
       "2              Degree 3                0.000335966\n",
       "3              Degree 4                0.000328003\n",
       "4              Degree 5                0.000324792\n",
       "5              Degree 6                0.000324386"
      ]
     },
     "execution_count": 151,
     "metadata": {},
     "output_type": "execute_result"
    }
   ],
   "source": [
    "(results_df)"
   ]
  },
  {
   "cell_type": "code",
   "execution_count": null,
   "metadata": {},
   "outputs": [],
   "source": []
  }
 ],
 "metadata": {
  "kernelspec": {
   "display_name": "Python 3",
   "language": "python",
   "name": "python3"
  },
  "language_info": {
   "codemirror_mode": {
    "name": "ipython",
    "version": 3
   },
   "file_extension": ".py",
   "mimetype": "text/x-python",
   "name": "python",
   "nbconvert_exporter": "python",
   "pygments_lexer": "ipython3",
   "version": "3.7.3"
  },
  "varInspector": {
   "cols": {
    "lenName": 16,
    "lenType": 16,
    "lenVar": 40
   },
   "kernels_config": {
    "python": {
     "delete_cmd_postfix": "",
     "delete_cmd_prefix": "del ",
     "library": "var_list.py",
     "varRefreshCmd": "print(var_dic_list())"
    },
    "r": {
     "delete_cmd_postfix": ") ",
     "delete_cmd_prefix": "rm(",
     "library": "var_list.r",
     "varRefreshCmd": "cat(var_dic_list()) "
    }
   },
   "types_to_exclude": [
    "module",
    "function",
    "builtin_function_or_method",
    "instance",
    "_Feature"
   ],
   "window_display": false
  }
 },
 "nbformat": 4,
 "nbformat_minor": 2
}
