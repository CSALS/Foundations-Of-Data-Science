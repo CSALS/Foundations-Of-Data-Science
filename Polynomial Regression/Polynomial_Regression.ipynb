{
 "cells": [
  {
   "cell_type": "code",
   "execution_count": 1,
   "metadata": {},
   "outputs": [],
   "source": [
    "\"\"\"\n",
    "    Polynomial Regression of degree 1, 2, 3, 4, 5, 6\n",
    "\"\"\""
   ]
  },
  {
   "cell_type": "code",
   "execution_count": 33,
   "metadata": {},
   "outputs": [],
   "source": [
    "import pandas as pd\n",
    "import numpy as np\n",
    "import matplotlib.pyplot as plt\n",
    "%matplotlib inline"
   ]
  },
  {
   "cell_type": "code",
   "execution_count": 34,
   "metadata": {},
   "outputs": [],
   "source": [
    "df = pd.read_csv(\"assets/dataset.txt\", sep = \",\", names = [\"id\", \"longtitude\", \"latitude\", \"altitude\"])"
   ]
  },
  {
   "cell_type": "code",
   "execution_count": 45,
   "metadata": {},
   "outputs": [],
   "source": [
    "df = (df - df.mean())/(df.std())\n",
    "valueArray = df.to_numpy()"
   ]
  },
  {
   "cell_type": "code",
   "execution_count": 46,
   "metadata": {},
   "outputs": [],
   "source": [
    "X = valueArray[0:,1:3]\n",
    "Y = valueArray[0:,3:]\n",
    "\n",
    "train = 0.6\n",
    "validation = 0.2\n",
    "test = 1- train - validation\n",
    "\n",
    "train_X = X[:int(train*X.shape[0])]\n",
    "train_X = np.insert(train_X,0,1,axis=1) #Adding bias\n",
    "trainY = Y[:int(train*X.shape[0])]\n",
    "validation_X = X[int(train*X.shape[0]): int((train+validation)*X.shape[0])]\n",
    "validation_X = np.insert(validation_X,0,1,axis=1) #Adding bias\n",
    "validation_Y = Y[int(train*X.shape[0]): int((train+validation)*X.shape[0])]\n",
    "test_X = X[int((train+validation)*X.shape[0]):]\n",
    "test_X = np.insert(test_X,0,1,axis=1) #Adding bias\n",
    "test_Y = Y[int((train+validation)*X.shape[0]):]"
   ]
  },
  {
   "cell_type": "code",
   "execution_count": 47,
   "metadata": {},
   "outputs": [],
   "source": [
    "# Testing metrics\n",
    "train_RMSE = {}\n",
    "train_R2 = {}\n",
    "test_RMSE = {}\n",
    "test_R2 = {}\n",
    "def RMSE(actualY, predictedY):\n",
    "    N = actualY.shape[0]\n",
    "    RMSE = np.sqrt(np.sum((np.power(actualY - predictedY, 2)/N), axis = 0))\n",
    "    return RMSE\n",
    "def R2(actualY, predictedY):\n",
    "    meanY = np.mean(actualY, axis = 0)\n",
    "    TSS = np.sum(np.power(actualY - meanY, 2), axis = 0)\n",
    "    RSS = np.sum(np.power(actualY - predictedY, 2), axis = 0)\n",
    "    return (1 - RSS/TSS)"
   ]
  },
  {
   "cell_type": "code",
   "execution_count": 48,
   "metadata": {},
   "outputs": [],
   "source": [
    "# For only degree >= 2\n",
    "def addPolynomialFeatures(X, degree):\n",
    "    for i in range(degree + 1):\n",
    "        X = np.concatenate((X, X[:,1:2]**(i) * X[:,2:3]**(degree - i)), axis=1)\n",
    "    return X"
   ]
  },
  {
   "cell_type": "code",
   "execution_count": 56,
   "metadata": {},
   "outputs": [],
   "source": [
    "def gradientDescent(train_X, train_Y, test_X, test_Y, alpha, maxIterations, weights, degree):\n",
    "    \"\"\"\n",
    "    This function implements all the batch gradient descent with no regularization.\n",
    "    At each iteration all the weights are updated with gradient calculated\n",
    "    over all training points\n",
    "    \"\"\"\n",
    "    # Training\n",
    "    costs = []\n",
    "    iters = []\n",
    "    trainX = train_X\n",
    "    trainY = train_Y\n",
    "    m = trainX.shape[0]\n",
    "    prevCost, currCost = 0.0, 0.0\n",
    "    for iteration in range(maxIterations):\n",
    "        gradient = np.sum(trainX * (trainX @ weights.T - trainY), axis=0)\n",
    "        currCost = np.sum(np.power(((trainX @ weights.T) - trainY),2))/(2 * m)\n",
    "        weights = weights - (alpha/m) * gradient\n",
    "        #Plotting loss over train set for every 20 iterations\n",
    "        if iteration % 20 == 0:\n",
    "            costs.append(currCost)\n",
    "            iters.append(iteration + 1)\n",
    "        #Stopping Criterion\n",
    "        if iteration != 0 and abs(prevCost - currCost) < 1e-10:\n",
    "            break\n",
    "        prevCost = currCost\n",
    "    print(\"Optimal Cost is {}\".format(currCost))\n",
    "    print(\"Converging at {}th iteration with learning rate {}\".format(iteration+1,alpha))\n",
    "    plt.title(\"Batch Gradient Descent\")\n",
    "    plt.xlabel(\"No Of Iterations\")\n",
    "    plt.ylabel(\"Cost\")\n",
    "    plt.plot(iters,costs)\n",
    "    plt.show()\n",
    "    train_RMSE['batch'] = RMSE(trainY, trainX.dot(weights.T))[0]\n",
    "    train_R2['batch'] = R2(trainY, trainX.dot(weights.T))[0]\n",
    "    # Testing\n",
    "    predicted_Y = test_X.dot(weights.T)\n",
    "    test_RMSE['batch'] = RMSE(test_Y, predicted_Y)[0]\n",
    "    test_R2['batch'] = R2(test_Y, predicted_Y)[0]\n",
    "    return weights"
   ]
  },
  {
   "cell_type": "code",
   "execution_count": 57,
   "metadata": {},
   "outputs": [
    {
     "name": "stdout",
     "output_type": "stream",
     "text": [
      "Optimal Cost is 173.13728754045792\n",
      "Converging at 509th iteration with learning rate 0.05\n"
     ]
    },
    {
     "data": {
      "image/png": "[encoded data removed]",
      "text/plain": [
       "<Figure size 432x288 with 1 Axes>"
      ]
     },
     "metadata": {
      "needs_background": "light"
     },
     "output_type": "display_data"
    },
    {
     "data": {
      "text/plain": [
       "array([[22.45260756,  3.26808601, -3.53050677]])"
      ]
     },
     "execution_count": 57,
     "metadata": {},
     "output_type": "execute_result"
    }
   ],
   "source": [
    "# Degree 1\n",
    "gradientDescent(train_X, train_Y, test_X, test_Y, 0.05, 1000, np.random.randn(1, train_X.shape[1]), 1)"
   ]
  },
  {
   "cell_type": "code",
   "execution_count": null,
   "metadata": {},
   "outputs": [],
   "source": []
  },
  {
   "cell_type": "code",
   "execution_count": null,
   "metadata": {},
   "outputs": [],
   "source": []
  },
  {
   "cell_type": "code",
   "execution_count": 13,
   "metadata": {},
   "outputs": [
    {
     "name": "stdout",
     "output_type": "stream",
     "text": [
      "Optimal Cost is 0.48564650053824365\n",
      "Converging at 1213th iteration with learning rate 0.05\n"
     ]
    },
    {
     "data": {
      "image/png": "[encoded data removed]",
      "text/plain": [
       "<Figure size 432x288 with 1 Axes>"
      ]
     },
     "metadata": {
      "needs_background": "light"
     },
     "output_type": "display_data"
    }
   ],
   "source": [
    "# Degree 2\n",
    "degree = 2\n",
    "X_train = addPolynomialFeatures(train_X, degree)\n",
    "X_test = addPolynomialFeatures(test_X, degree)\n",
    "gradientDescent(X_train, train_Y, X_test, test_Y, 0.05, 4000, np.random.randn(1, X_train.shape[1]), degree)"
   ]
  },
  {
   "cell_type": "code",
   "execution_count": null,
   "metadata": {},
   "outputs": [],
   "source": []
  },
  {
   "cell_type": "code",
   "execution_count": null,
   "metadata": {},
   "outputs": [],
   "source": []
  },
  {
   "cell_type": "code",
   "execution_count": 14,
   "metadata": {},
   "outputs": [
    {
     "name": "stdout",
     "output_type": "stream",
     "text": [
      "Optimal Cost is 0.47027709163042175\n",
      "Converging at 4000th iteration with learning rate 0.005\n"
     ]
    },
    {
     "data": {
      "image/png": "[encoded data removed]",
      "text/plain": [
       "<Figure size 432x288 with 1 Axes>"
      ]
     },
     "metadata": {
      "needs_background": "light"
     },
     "output_type": "display_data"
    }
   ],
   "source": [
    "# Degree 3\n",
    "degree = 3\n",
    "X_train = addPolynomialFeatures(train_X, degree)\n",
    "X_test = addPolynomialFeatures(test_X, degree)\n",
    "gradientDescent(X_train, train_Y, X_test, test_Y, 0.005, 4000, np.random.randn(1, X_train.shape[1]), degree)"
   ]
  },
  {
   "cell_type": "code",
   "execution_count": 15,
   "metadata": {},
   "outputs": [
    {
     "name": "stdout",
     "output_type": "stream",
     "text": [
      "Optimal Cost is 1.1755261308935763\n",
      "Converging at 4000th iteration with learning rate 0.0001\n"
     ]
    },
    {
     "data": {
      "image/png": "[encoded data removed]",
      "text/plain": [
       "<Figure size 432x288 with 1 Axes>"
      ]
     },
     "metadata": {
      "needs_background": "light"
     },
     "output_type": "display_data"
    }
   ],
   "source": [
    "# Degree 4\n",
    "degree = 4\n",
    "X_train = addPolynomialFeatures(train_X, degree)\n",
    "X_test = addPolynomialFeatures(test_X, degree)\n",
    "gradientDescent(X_train, train_Y, X_test, test_Y, 0.0001, 4000, np.random.randn(1, X_train.shape[1]), degree)"
   ]
  },
  {
   "cell_type": "code",
   "execution_count": 16,
   "metadata": {},
   "outputs": [
    {
     "name": "stdout",
     "output_type": "stream",
     "text": [
      "Optimal Cost is 1.0864989122444229\n",
      "Converging at 4000th iteration with learning rate 0.0001\n"
     ]
    },
    {
     "data": {
      "image/png": "[encoded data removed]",
      "text/plain": [
       "<Figure size 432x288 with 1 Axes>"
      ]
     },
     "metadata": {
      "needs_background": "light"
     },
     "output_type": "display_data"
    }
   ],
   "source": [
    "# Degree 5\n",
    "degree = 5\n",
    "X_train = addPolynomialFeatures(train_X, degree)\n",
    "X_test = addPolynomialFeatures(test_X, degree)\n",
    "gradientDescent(X_train, train_Y, X_test, test_Y, 0.0001, 4000, np.random.randn(1, X_train.shape[1]), degree)"
   ]
  },
  {
   "cell_type": "code",
   "execution_count": 17,
   "metadata": {},
   "outputs": [
    {
     "name": "stdout",
     "output_type": "stream",
     "text": [
      "Optimal Cost is 5.100811834247672\n",
      "Converging at 4000th iteration with learning rate 1e-05\n"
     ]
    },
    {
     "data": {
      "image/png": "[encoded data removed]",
      "text/plain": [
       "<Figure size 432x288 with 1 Axes>"
      ]
     },
     "metadata": {
      "needs_background": "light"
     },
     "output_type": "display_data"
    }
   ],
   "source": [
    "# Degree 6\n",
    "degree = 6\n",
    "X_train = addPolynomialFeatures(train_X, degree)\n",
    "X_test = addPolynomialFeatures(test_X, degree)\n",
    "gradientDescent(X_train, train_Y, X_test, test_Y, 0.00001, 4000, np.random.randn(1, X_train.shape[1]), degree)"
   ]
  },
  {
   "cell_type": "code",
   "execution_count": 18,
   "metadata": {},
   "outputs": [],
   "source": [
    "# Regularization"
   ]
  },
  {
   "cell_type": "code",
   "execution_count": 19,
   "metadata": {},
   "outputs": [],
   "source": [
    "X_train = addPolynomialFeatures(train_X, 6)\n",
    "X_test = addPolynomialFeatures(test_X, 6)"
   ]
  },
  {
   "cell_type": "code",
   "execution_count": 20,
   "metadata": {},
   "outputs": [],
   "source": [
    "validation_loss = []\n",
    "reg_parameters = []\n",
    "def gradientDescentWithL1Regularization(X, Y, X_test, Y_test, alpha, maxIterations, weights, regParameter):\n",
    "    \"\"\"\n",
    "    This function implements the gradient descents with L1 norm regularization.\n",
    "    At each iteration all the weights are updated with gradient calculated\n",
    "    over all training points\n",
    "    \"\"\"\n",
    "    # Training\n",
    "    costs = []\n",
    "    iters = []    \n",
    "    shuffledData = np.concatenate((X, Y), axis = 1)\n",
    "    np.random.shuffle(shuffledData)\n",
    "    trainX = X\n",
    "    trainY = Y\n",
    "    validationSize = int(0.1 * X_test.shape[0])\n",
    "    validationX = X_test[0:validationSize]\n",
    "    test_X = X_test[validationSize+1:]\n",
    "    validationY =  Y_test[0:validationSize]\n",
    "    test_Y = Y_test[validationSize+1:]\n",
    "    m = trainX.shape[0]\n",
    "    prevCost, currCost = 0.0, 0.0\n",
    "    for iteration in range(maxIterations):\n",
    "        c = (regParameter)/(2 * m)\n",
    "        gradient = np.sum(trainX * (trainX @ weights.T - trainY), axis=0) + c * np.sign(weights)\n",
    "        weightList = [weights[0][0], weights[0][1], weights[0][2]]\n",
    "        weightList = np.asarray(weightList)\n",
    "        currCost = np.sum(np.power(((trainX @ weights.T) - trainY),2))/(2 * m) + regParameter/(2 * m) * np.linalg.norm(weightList, 1) \n",
    "        weights = weights - (alpha/m) * gradient\n",
    "        #Plotting loss over train set for every 20 iterations\n",
    "        if iteration%20 == 0:\n",
    "            costs.append(currCost)\n",
    "            iters.append(iteration + 1) \n",
    "        #Stopping Criterion\n",
    "        if iteration != 0 and abs(prevCost - currCost) < 1e-10:\n",
    "            break\n",
    "        prevCost = currCost\n",
    "    # Find loss over validation set\n",
    "    weightList = [weights[0][0], weights[0][1], weights[0][2]]\n",
    "    weightList = np.asarray(weightList)\n",
    "    validation_cost = np.sum(np.power(((validationX @ weights.T) - validationY),2))/(2 * m) + regParameter/(2 * m) * np.linalg.norm(weightList, 1)\n",
    "    validation_loss.append(validation_cost)\n",
    "    reg_parameters.append(regParameter)\n",
    "    # Printing the results\n",
    "    print(\"Optimal Cost is {}\".format(currCost))\n",
    "    print(\"Converging at {}th iteration with learning rate {} and {} regularization parameter\".format(iteration+1,alpha,regParameter))\n",
    "    plt.title(\"Gradient Descent\")\n",
    "    plt.xlabel(\"No Of Iterations\")\n",
    "    plt.ylabel(\"Cost\")\n",
    "    plt.plot(iters,costs)\n",
    "    plt.show()\n",
    "    train_RMSE['l1'] = RMSE(trainY, trainX.dot(weights.T))[0]\n",
    "    train_R2['l1'] = R2(trainY, trainX.dot(weights.T))[0]\n",
    "    # Testing\n",
    "    predicted_Y = test_X.dot(weights.T)\n",
    "    test_RMSE['l1'] = RMSE(test_Y, predicted_Y)[0]\n",
    "    test_R2['l1'] = R2(test_Y, predicted_Y)[0]\n",
    "    #return weights"
   ]
  },
  {
   "cell_type": "code",
   "execution_count": null,
   "metadata": {},
   "outputs": [],
   "source": [
    "list = [0.0, 0.5, 1.0, 1.3, 1.8, 2.0]\n",
    "for reg in list:\n",
    "    gradientDescentWithL1Regularization(X_train, train_Y, X_test, test_Y, 0.0002, 5000, np.zeros([1, X_train.shape[1]]), reg)\n",
    "plt.title(\"L1 Regularization\")\n",
    "plt.xlabel(\"Regularization Parameter\")\n",
    "plt.ylabel(\"Validation Loss\")\n",
    "plt.plot(reg_parameters, validation_loss)"
   ]
  },
  {
   "cell_type": "code",
   "execution_count": null,
   "metadata": {},
   "outputs": [],
   "source": [
    "validation_loss = []\n",
    "reg_parameters = []\n",
    "def gradientDescentWithL2Regularization(X, Y, alpha, maxIterations, weights, regParameter):\n",
    "    \"\"\"\n",
    "    This function implements the gradient descents with L2 norm regularization.\n",
    "    At each iteration all the weights are updated with gradient calculated\n",
    "    over all training points. \n",
    "    \"\"\"\n",
    "    # Training\n",
    "    costs = []\n",
    "    iters = []    \n",
    "    shuffledData = np.concatenate((X, Y), axis = 1)\n",
    "    np.random.shuffle(shuffledData)\n",
    "    trainX = X\n",
    "    trainY = Y\n",
    "    validationSize = int(0.1 * X_test.shape[0])\n",
    "    validationX = X_test[0:validationSize]\n",
    "    test_X = X_test[validationSize+1:]\n",
    "    validationY =  Y_test[0:validationSize]\n",
    "    test_Y = Y_test[validationSize+1:]\n",
    "    m = trainX.shape[0]\n",
    "    prevCost, currCost = 0.0, 0.0\n",
    "    for iteration in range(maxIterations):\n",
    "        gradient = np.sum(trainX * (trainX @ weights.T - trainY), axis=0)\n",
    "        weightList = [weights[0][0], weights[0][1], weights[0][2]]\n",
    "        weightList = np.asarray(weightList)\n",
    "        currCost = np.sum(np.power(((trainX @ weights.T) - trainY),2))/(2 * m) + regParameter/(2 * m) * np.linalg.norm(weightList, 2) \n",
    "        weights = (1 - alpha*regParameter/m)*weights - (alpha/m) * gradient\n",
    "        #Plotting loss over train set for every 20 iterations\n",
    "        if iteration%20 == 0:\n",
    "            costs.append(currCost)\n",
    "            iters.append(iteration + 1)\n",
    "        #Stopping Criterion\n",
    "        if iteration != 0 and abs(prevCost - currCost) < 1e-10:\n",
    "            break\n",
    "        prevCost = currCost\n",
    "     # Find loss over validation set\n",
    "    weightList = [weights[0][0], weights[0][1], weights[0][2]]\n",
    "    weightList = np.asarray(weightList)\n",
    "    validation_cost = np.sum(np.power(((validationX @ weights.T) - validationY),2))/(2 * m) + regParameter/(2 * m) * np.linalg.norm(weightList, 2)\n",
    "    validation_loss.append(validation_cost)\n",
    "    reg_parameters.append(regParameter)\n",
    "    # Printing the results\n",
    "    print(\"Optimal Cost is {}\".format(currCost))\n",
    "    print(\"Converging at {}th iteration with learning rate {} and {} regularization parameter\".format(iteration+1,alpha,regParameter))                             \n",
    "    plt.title(\"Gradient Descent\")\n",
    "    plt.xlabel(\"No Of Iterations\")\n",
    "    plt.ylabel(\"Cost\")\n",
    "    plt.plot(iters,costs)\n",
    "    plt.show()\n",
    "    train_RMSE['l2'] = RMSE(trainY, trainX.dot(weights.T))[0]\n",
    "    train_R2['l2'] = R2(trainY, trainX.dot(weights.T))[0]\n",
    "    # Testing\n",
    "    predicted_Y = test_X.dot(weights.T)\n",
    "    test_RMSE['l2'] = RMSE(test_Y, predicted_Y)[0]\n",
    "    test_R2['l2'] = R2(test_Y, predicted_Y)[0]\n",
    "    return weights"
   ]
  },
  {
   "cell_type": "code",
   "execution_count": null,
   "metadata": {},
   "outputs": [],
   "source": [
    "list = [0.0, 0.5, 1.0, 1.3, 1.8, 2.0]\n",
    "for reg in list:\n",
    "    gradientDescentWithL2Regularization(X_train, train_Y, X_test, test_Y, 0.0002, 5000, np.zeros([1, X_train.shape[1]]), reg)\n",
    "plt.title(\"L2 Regularization\")\n",
    "plt.xlabel(\"Regularization Parameter\")\n",
    "plt.ylabel(\"Validation Loss\")\n",
    "plt.plot(reg_parameters, validation_loss)"
   ]
  },
  {
   "cell_type": "code",
   "execution_count": null,
   "metadata": {},
   "outputs": [],
   "source": [
    "results_dict = {'Gradient Descent for Polynomial Regression Model' : \n",
    "                    ['1', '2', '3','4','5', '6'],\n",
    "                 'RMSE Training data': \n",
    "                    [train_RMSE['batch1'], train_RMSE['batch2'], train_RMSE['batch3'], train_RMSE['batch4'], train_RMSE['batch5'], , train_RMSE['batch6']],\n",
    "                 'R^2 Training data': \n",
    "                    [train_R2['batch1'], train_R2['batch2'], train_R2['batch3'], train_R2['batch4'], train_R2['batch5'], , train_R2['batch6']],\n",
    "                 'RMSE Testing data': \n",
    "                    [test_RMSE['batch1'], test_RMSE['batch2'], test_RMSE['batch3'], test_RMSE['batch4'], test_RMSE['batch5'], , test_RMSE['batch6']], \n",
    "                 'R^2 Testing data': \n",
    "                    [test_R2['batch1'], test_R2['batch2'], test_R2['batch3'], test_R2['batch4'], test_R2['batch5'], , test_R2['batch6']]  \n",
    "                }\n",
    "results_df = pd.DataFrame(data = results_dict)"
   ]
  },
  {
   "cell_type": "code",
   "execution_count": null,
   "metadata": {},
   "outputs": [],
   "source": [
    "results_df"
   ]
  },
  {
   "cell_type": "code",
   "execution_count": null,
   "metadata": {},
   "outputs": [],
   "source": [
    "results_dict = {'Regularized Gradient Descent for 6th degree Regression Model' : \n",
    "                    ['L1', 'L2'],\n",
    "                 'RMSE Training data': \n",
    "                    [train_RMSE['l1'], train_RMSE['l2']],\n",
    "                 'R^2 Training data': \n",
    "                    [train_R2['l1'], train_R2['l2']],\n",
    "                 'RMSE Testing data': \n",
    "                    [test_RMSE['l1'], test_RMSE['l2']], \n",
    "                 'R^2 Testing data': \n",
    "                    [test_R2['l1'], test_R2['l2']]  \n",
    "                }\n",
    "results_df = pd.DataFrame(data = results_dict)"
   ]
  },
  {
   "cell_type": "code",
   "execution_count": null,
   "metadata": {},
   "outputs": [],
   "source": [
    "results_df"
   ]
  },
  {
   "cell_type": "code",
   "execution_count": null,
   "metadata": {},
   "outputs": [],
   "source": []
  }
 ],
 "metadata": {
  "kernelspec": {
   "display_name": "Python 3",
   "language": "python",
   "name": "python3"
  },
  "language_info": {
   "codemirror_mode": {
    "name": "ipython",
    "version": 3
   },
   "file_extension": ".py",
   "mimetype": "text/x-python",
   "name": "python",
   "nbconvert_exporter": "python",
   "pygments_lexer": "ipython3",
   "version": "3.7.3"
  },
  "varInspector": {
   "cols": {
    "lenName": 16,
    "lenType": 16,
    "lenVar": 40
   },
   "kernels_config": {
    "python": {
     "delete_cmd_postfix": "",
     "delete_cmd_prefix": "del ",
     "library": "var_list.py",
     "varRefreshCmd": "print(var_dic_list())"
    },
    "r": {
     "delete_cmd_postfix": ") ",
     "delete_cmd_prefix": "rm(",
     "library": "var_list.r",
     "varRefreshCmd": "cat(var_dic_list()) "
    }
   },
   "types_to_exclude": [
    "module",
    "function",
    "builtin_function_or_method",
    "instance",
    "_Feature"
   ],
   "window_display": false
  }
 },
 "nbformat": 4,
 "nbformat_minor": 2
}
