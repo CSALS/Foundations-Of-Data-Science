{
 "cells": [
  {
   "cell_type": "code",
   "execution_count": 4,
   "metadata": {},
   "outputs": [
    {
     "data": {
      "text/plain": [
       "'\\n    Polynomial Regression of degree 1, 2, 3, 4, 5, 6\\n'"
      ]
     },
     "execution_count": 4,
     "metadata": {},
     "output_type": "execute_result"
    }
   ],
   "source": [
    "\"\"\"\n",
    "    Polynomial Regression of degree 1, 2, 3, 4, 5, 6\n",
    "\"\"\""
   ]
  },
  {
   "cell_type": "code",
   "execution_count": 5,
   "metadata": {},
   "outputs": [],
   "source": [
    "import pandas as pd\n",
    "import numpy as np\n",
    "import matplotlib.pyplot as plt\n",
    "%matplotlib inline"
   ]
  },
  {
   "cell_type": "code",
   "execution_count": 6,
   "metadata": {},
   "outputs": [],
   "source": [
    "df = pd.read_csv(\"assets/dataset.txt\", sep = \",\", names = [\"id\", \"longtitude\", \"latitude\", \"altitude\"])"
   ]
  },
  {
   "cell_type": "code",
   "execution_count": 7,
   "metadata": {},
   "outputs": [],
   "source": [
    "#Normalizing Data\n",
    "df = (df-df.mean())/df.std()"
   ]
  },
  {
   "cell_type": "code",
   "execution_count": 8,
   "metadata": {},
   "outputs": [],
   "source": [
    "valueArray = df.to_numpy()"
   ]
  },
  {
   "cell_type": "code",
   "execution_count": 9,
   "metadata": {},
   "outputs": [],
   "source": [
    "#Splitting dataset using 70-30 cross validation technique\n",
    "train_size = int(0.7 * valueArray.shape[0])\n",
    "train_X = valueArray[0:train_size, 1:3]\n",
    "train_X = np.insert(train_X,0,1,axis=1) #Adding bias\n",
    "train_Y = valueArray[0:train_size, 3:]\n",
    "test_X = valueArray[train_size + 1:, 1:3]\n",
    "test_X = np.insert(test_X,0,1,axis=1) #Adding bias\n",
    "test_Y = valueArray[train_size + 1:, 3:]"
   ]
  },
  {
   "cell_type": "code",
   "execution_count": 10,
   "metadata": {},
   "outputs": [],
   "source": [
    "# Testing metrics\n",
    "train_RMSE = {}\n",
    "train_R2 = {}\n",
    "test_RMSE = {}\n",
    "test_R2 = {}\n",
    "def RMSE(actualY, predictedY):\n",
    "    N = actualY.shape[0]\n",
    "    RMSE = np.sqrt(np.sum((np.power(actualY - predictedY, 2)/N), axis = 0))\n",
    "    return RMSE\n",
    "def R2(actualY, predictedY):\n",
    "    meanY = np.mean(actualY, axis = 0)\n",
    "    TSS = np.sum(np.power(actualY - meanY, 2), axis = 0)\n",
    "    RSS = np.sum(np.power(actualY - predictedY, 2), axis = 0)\n",
    "    return (1 - RSS/TSS)"
   ]
  },
  {
   "cell_type": "code",
   "execution_count": 11,
   "metadata": {},
   "outputs": [],
   "source": [
    "# For only degree >= 2\n",
    "def addPolynomialFeatures(X, degree):\n",
    "    for i in range(degree + 1):\n",
    "        X = np.concatenate((X, X[:,1:2]**(i) * X[:,2:3]**(degree - i)), axis=1)\n",
    "    return X"
   ]
  },
  {
   "cell_type": "code",
   "execution_count": 22,
   "metadata": {},
   "outputs": [],
   "source": [
    "def gradientDescent(X, Y, X_test, Y_test, alpha, maxIterations, weights, degree):\n",
    "    \"\"\"\n",
    "    This function implements all the batch gradient descent with no regularization.\n",
    "    At each iteration all the weights are updated with gradient calculated\n",
    "    over all training points\n",
    "    \"\"\"\n",
    "    # Training\n",
    "    costs = []\n",
    "    iters = []\n",
    "    trainX = X\n",
    "    trainY = Y\n",
    "    m = trainX.shape[0]\n",
    "    prevCost, currCost = 0.0, 0.0\n",
    "    for iteration in range(maxIterations):\n",
    "        gradient = np.sum(trainX * (trainX @ weights.T - trainY), axis=0)\n",
    "        currCost = np.sum(np.power(((trainX @ weights.T) - trainY),2))/(2 * m)\n",
    "        weights = weights - (alpha/m) * gradient\n",
    "        #Plotting loss over train set for every 20 iterations\n",
    "        if iteration % 20 == 0:\n",
    "            costs.append(currCost)\n",
    "            iters.append(iteration + 1)\n",
    "        #Stopping Criterion\n",
    "        if iteration != 0 and abs(prevCost - currCost) < 1e-10:\n",
    "            break\n",
    "        prevCost = currCost\n",
    "    print(\"Optimal Cost is {}\".format(currCost))\n",
    "    print(\"Converging at {}th iteration with learning rate {}\".format(iteration+1,alpha))\n",
    "    plt.title(\"Gradient Descent of Polynomial Regression of degree {}\".format(degree))\n",
    "    plt.xlabel(\"No Of Iterations\")\n",
    "    plt.ylabel(\"Cost\")\n",
    "    plt.plot(iters,costs)\n",
    "    plt.show()\n",
    "    train_RMSE['batch' + str(degree)] = RMSE(Y, X.dot(weights.T))[0]\n",
    "    train_R2['batch' + str(degree)] = R2(Y, X.dot(weights.T))[0]\n",
    "    # Testing\n",
    "    Y_predicted = X_test.dot(weights.T)\n",
    "    test_RMSE['batch' + str(degree)] = RMSE(Y_test, Y_predicted)[0]\n",
    "    test_R2['batch' + str(degree)] = R2(Y_test, Y_predicted)[0]\n",
    "    #return weights"
   ]
  },
  {
   "cell_type": "code",
   "execution_count": 19,
   "metadata": {},
   "outputs": [
    {
     "name": "stdout",
     "output_type": "stream",
     "text": [
      "Optimal Cost is 0.49843225036551936\n",
      "Converting at 1477th iteration with learning rate 0.01\n"
     ]
    },
    {
     "data": {
      "image/png": "[encoded data removed]",
      "text/plain": [
       "<Figure size 432x288 with 1 Axes>"
      ]
     },
     "metadata": {
      "needs_background": "light"
     },
     "output_type": "display_data"
    }
   ],
   "source": [
    "# Degree 1\n",
    "gradientDescent(train_X, train_Y, test_X, test_Y, 0.01, 2000, np.random.randn(1, train_X.shape[1]), 1)"
   ]
  },
  {
   "cell_type": "code",
   "execution_count": null,
   "metadata": {},
   "outputs": [
    {
     "name": "stdout",
     "output_type": "stream",
     "text": [
      "Optimal Cost is 0.48564650051042835\n",
      "Converging at 1161th iteration with learning rate 0.05\n"
     ]
    },
    {
     "data": {
      "image/png": "[encoded data removed]",
      "text/plain": [
       "<Figure size 432x288 with 1 Axes>"
      ]
     },
     "metadata": {
      "needs_background": "light"
     },
     "output_type": "display_data"
    }
   ],
   "source": [
    "# Degree 2 to 6\n",
    "for degree in range(2, 7):\n",
    "    X_train = addPolynomialFeatures(train_X, degree)\n",
    "    X_test = addPolynomialFeatures(test_X, degree)\n",
    "    gradientDescent(X_train, train_Y, X_test, test_Y, 0.05, 4000, np.random.randn(1, X_train.shape[1]), degree)"
   ]
  },
  {
   "cell_type": "code",
   "execution_count": null,
   "metadata": {},
   "outputs": [],
   "source": [
    "# Regularization"
   ]
  }
 ],
 "metadata": {
  "kernelspec": {
   "display_name": "Python 3",
   "language": "python",
   "name": "python3"
  },
  "language_info": {
   "codemirror_mode": {
    "name": "ipython",
    "version": 3
   },
   "file_extension": ".py",
   "mimetype": "text/x-python",
   "name": "python",
   "nbconvert_exporter": "python",
   "pygments_lexer": "ipython3",
   "version": "3.7.3"
  },
  "varInspector": {
   "cols": {
    "lenName": 16,
    "lenType": 16,
    "lenVar": 40
   },
   "kernels_config": {
    "python": {
     "delete_cmd_postfix": "",
     "delete_cmd_prefix": "del ",
     "library": "var_list.py",
     "varRefreshCmd": "print(var_dic_list())"
    },
    "r": {
     "delete_cmd_postfix": ") ",
     "delete_cmd_prefix": "rm(",
     "library": "var_list.r",
     "varRefreshCmd": "cat(var_dic_list()) "
    }
   },
   "types_to_exclude": [
    "module",
    "function",
    "builtin_function_or_method",
    "instance",
    "_Feature"
   ],
   "window_display": false
  }
 },
 "nbformat": 4,
 "nbformat_minor": 2
}
