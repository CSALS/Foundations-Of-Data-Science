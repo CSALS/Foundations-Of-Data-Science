{
 "cells": [
  {
   "cell_type": "code",
   "execution_count": 1,
   "metadata": {},
   "outputs": [
    {
     "data": {
      "text/plain": [
       "'C:\\\\Users\\\\Nikhil Munigela'"
      ]
     },
     "execution_count": 1,
     "metadata": {},
     "output_type": "execute_result"
    }
   ],
   "source": [
    "pwd\n"
   ]
  },
  {
   "cell_type": "code",
   "execution_count": 78,
   "metadata": {},
   "outputs": [],
   "source": [
    "import pandas as pd\n",
    "import numpy as np\n",
    "import matplotlib.pyplot as plt\n",
    "import math\n",
    "from sklearn.metrics import mean_squared_error\n",
    "from sklearn.metrics import r2_score"
   ]
  },
  {
   "cell_type": "code",
   "execution_count": 3,
   "metadata": {},
   "outputs": [],
   "source": [
    "df = pd.read_csv(\"assets/dataset.txt\", sep = \",\", names = [\"id\", \"longtitude\", \"latitude\", \"altitude\"])"
   ]
  },
  {
   "cell_type": "code",
   "execution_count": 6,
   "metadata": {},
   "outputs": [
    {
     "data": {
      "text/html": [
       "<div>\n",
       "<style scoped>\n",
       "    .dataframe tbody tr th:only-of-type {\n",
       "        vertical-align: middle;\n",
       "    }\n",
       "\n",
       "    .dataframe tbody tr th {\n",
       "        vertical-align: top;\n",
       "    }\n",
       "\n",
       "    .dataframe thead th {\n",
       "        text-align: right;\n",
       "    }\n",
       "</style>\n",
       "<table border=\"1\" class=\"dataframe\">\n",
       "  <thead>\n",
       "    <tr style=\"text-align: right;\">\n",
       "      <th></th>\n",
       "      <th>id</th>\n",
       "      <th>longtitude</th>\n",
       "      <th>latitude</th>\n",
       "      <th>altitude</th>\n",
       "    </tr>\n",
       "  </thead>\n",
       "  <tbody>\n",
       "    <tr>\n",
       "      <th>0</th>\n",
       "      <td>144552912</td>\n",
       "      <td>9.349849</td>\n",
       "      <td>56.740876</td>\n",
       "      <td>17.052772</td>\n",
       "    </tr>\n",
       "    <tr>\n",
       "      <th>1</th>\n",
       "      <td>144552912</td>\n",
       "      <td>9.350188</td>\n",
       "      <td>56.740679</td>\n",
       "      <td>17.614840</td>\n",
       "    </tr>\n",
       "    <tr>\n",
       "      <th>2</th>\n",
       "      <td>144552912</td>\n",
       "      <td>9.350549</td>\n",
       "      <td>56.740544</td>\n",
       "      <td>18.083536</td>\n",
       "    </tr>\n",
       "    <tr>\n",
       "      <th>3</th>\n",
       "      <td>144552912</td>\n",
       "      <td>9.350806</td>\n",
       "      <td>56.740484</td>\n",
       "      <td>18.279465</td>\n",
       "    </tr>\n",
       "    <tr>\n",
       "      <th>4</th>\n",
       "      <td>144552912</td>\n",
       "      <td>9.351053</td>\n",
       "      <td>56.740486</td>\n",
       "      <td>18.422974</td>\n",
       "    </tr>\n",
       "  </tbody>\n",
       "</table>\n",
       "</div>"
      ],
      "text/plain": [
       "          id  longtitude   latitude   altitude\n",
       "0  144552912    9.349849  56.740876  17.052772\n",
       "1  144552912    9.350188  56.740679  17.614840\n",
       "2  144552912    9.350549  56.740544  18.083536\n",
       "3  144552912    9.350806  56.740484  18.279465\n",
       "4  144552912    9.351053  56.740486  18.422974"
      ]
     },
     "execution_count": 6,
     "metadata": {},
     "output_type": "execute_result"
    }
   ],
   "source": [
    "df.head()\n"
   ]
  },
  {
   "cell_type": "code",
   "execution_count": 36,
   "metadata": {},
   "outputs": [
    {
     "data": {
      "text/html": [
       "<div>\n",
       "<style scoped>\n",
       "    .dataframe tbody tr th:only-of-type {\n",
       "        vertical-align: middle;\n",
       "    }\n",
       "\n",
       "    .dataframe tbody tr th {\n",
       "        vertical-align: top;\n",
       "    }\n",
       "\n",
       "    .dataframe thead th {\n",
       "        text-align: right;\n",
       "    }\n",
       "</style>\n",
       "<table border=\"1\" class=\"dataframe\">\n",
       "  <thead>\n",
       "    <tr style=\"text-align: right;\">\n",
       "      <th></th>\n",
       "      <th>id</th>\n",
       "      <th>longtitude</th>\n",
       "      <th>latitude</th>\n",
       "      <th>altitude</th>\n",
       "    </tr>\n",
       "  </thead>\n",
       "  <tbody>\n",
       "    <tr>\n",
       "      <th>0</th>\n",
       "      <td>1.236558</td>\n",
       "      <td>-0.608892</td>\n",
       "      <td>-1.184481</td>\n",
       "      <td>-0.275681</td>\n",
       "    </tr>\n",
       "    <tr>\n",
       "      <th>1</th>\n",
       "      <td>1.236558</td>\n",
       "      <td>-0.608350</td>\n",
       "      <td>-1.185162</td>\n",
       "      <td>-0.245492</td>\n",
       "    </tr>\n",
       "    <tr>\n",
       "      <th>2</th>\n",
       "      <td>1.236558</td>\n",
       "      <td>-0.607776</td>\n",
       "      <td>-1.185625</td>\n",
       "      <td>-0.220318</td>\n",
       "    </tr>\n",
       "    <tr>\n",
       "      <th>3</th>\n",
       "      <td>1.236558</td>\n",
       "      <td>-0.607366</td>\n",
       "      <td>-1.185832</td>\n",
       "      <td>-0.209794</td>\n",
       "    </tr>\n",
       "    <tr>\n",
       "      <th>4</th>\n",
       "      <td>1.236558</td>\n",
       "      <td>-0.606972</td>\n",
       "      <td>-1.185826</td>\n",
       "      <td>-0.202086</td>\n",
       "    </tr>\n",
       "    <tr>\n",
       "      <th>5</th>\n",
       "      <td>1.236558</td>\n",
       "      <td>-0.606300</td>\n",
       "      <td>-1.185771</td>\n",
       "      <td>-0.164385</td>\n",
       "    </tr>\n",
       "    <tr>\n",
       "      <th>6</th>\n",
       "      <td>1.236558</td>\n",
       "      <td>-0.605260</td>\n",
       "      <td>-1.185576</td>\n",
       "      <td>-0.139371</td>\n",
       "    </tr>\n",
       "    <tr>\n",
       "      <th>7</th>\n",
       "      <td>1.236558</td>\n",
       "      <td>-0.604793</td>\n",
       "      <td>-1.185442</td>\n",
       "      <td>-0.137697</td>\n",
       "    </tr>\n",
       "    <tr>\n",
       "      <th>8</th>\n",
       "      <td>1.236558</td>\n",
       "      <td>-0.604532</td>\n",
       "      <td>-1.185333</td>\n",
       "      <td>-0.135647</td>\n",
       "    </tr>\n",
       "    <tr>\n",
       "      <th>9</th>\n",
       "      <td>1.236558</td>\n",
       "      <td>-0.604306</td>\n",
       "      <td>-1.185217</td>\n",
       "      <td>-0.144738</td>\n",
       "    </tr>\n",
       "    <tr>\n",
       "      <th>10</th>\n",
       "      <td>1.236558</td>\n",
       "      <td>-0.603748</td>\n",
       "      <td>-1.184741</td>\n",
       "      <td>-0.158725</td>\n",
       "    </tr>\n",
       "    <tr>\n",
       "      <th>11</th>\n",
       "      <td>1.236558</td>\n",
       "      <td>-0.603225</td>\n",
       "      <td>-1.184382</td>\n",
       "      <td>-0.212275</td>\n",
       "    </tr>\n",
       "    <tr>\n",
       "      <th>12</th>\n",
       "      <td>1.236558</td>\n",
       "      <td>-0.602707</td>\n",
       "      <td>-1.184053</td>\n",
       "      <td>-0.246244</td>\n",
       "    </tr>\n",
       "    <tr>\n",
       "      <th>13</th>\n",
       "      <td>1.236558</td>\n",
       "      <td>-0.601989</td>\n",
       "      <td>-1.183846</td>\n",
       "      <td>-0.243905</td>\n",
       "    </tr>\n",
       "    <tr>\n",
       "      <th>14</th>\n",
       "      <td>1.236558</td>\n",
       "      <td>-0.601348</td>\n",
       "      <td>-1.183529</td>\n",
       "      <td>-0.203455</td>\n",
       "    </tr>\n",
       "    <tr>\n",
       "      <th>15</th>\n",
       "      <td>1.236558</td>\n",
       "      <td>-0.601020</td>\n",
       "      <td>-1.183340</td>\n",
       "      <td>-0.178368</td>\n",
       "    </tr>\n",
       "    <tr>\n",
       "      <th>16</th>\n",
       "      <td>1.236558</td>\n",
       "      <td>-0.600498</td>\n",
       "      <td>-1.183121</td>\n",
       "      <td>-0.211498</td>\n",
       "    </tr>\n",
       "    <tr>\n",
       "      <th>17</th>\n",
       "      <td>1.236558</td>\n",
       "      <td>-0.600144</td>\n",
       "      <td>-1.183048</td>\n",
       "      <td>-0.223723</td>\n",
       "    </tr>\n",
       "    <tr>\n",
       "      <th>18</th>\n",
       "      <td>1.236558</td>\n",
       "      <td>-0.599754</td>\n",
       "      <td>-1.183024</td>\n",
       "      <td>-0.207480</td>\n",
       "    </tr>\n",
       "    <tr>\n",
       "      <th>19</th>\n",
       "      <td>-1.453641</td>\n",
       "      <td>-1.827012</td>\n",
       "      <td>-0.252598</td>\n",
       "      <td>0.531327</td>\n",
       "    </tr>\n",
       "    <tr>\n",
       "      <th>20</th>\n",
       "      <td>-1.453641</td>\n",
       "      <td>-1.827778</td>\n",
       "      <td>-0.254891</td>\n",
       "      <td>0.350577</td>\n",
       "    </tr>\n",
       "    <tr>\n",
       "      <th>21</th>\n",
       "      <td>-1.453641</td>\n",
       "      <td>-1.830581</td>\n",
       "      <td>-0.258552</td>\n",
       "      <td>0.133332</td>\n",
       "    </tr>\n",
       "    <tr>\n",
       "      <th>22</th>\n",
       "      <td>-1.453641</td>\n",
       "      <td>-1.831044</td>\n",
       "      <td>-0.259800</td>\n",
       "      <td>-0.019722</td>\n",
       "    </tr>\n",
       "    <tr>\n",
       "      <th>23</th>\n",
       "      <td>-1.453641</td>\n",
       "      <td>-1.831954</td>\n",
       "      <td>-0.262250</td>\n",
       "      <td>-0.270884</td>\n",
       "    </tr>\n",
       "    <tr>\n",
       "      <th>24</th>\n",
       "      <td>-1.453641</td>\n",
       "      <td>-1.832022</td>\n",
       "      <td>-0.262432</td>\n",
       "      <td>-0.276442</td>\n",
       "    </tr>\n",
       "    <tr>\n",
       "      <th>25</th>\n",
       "      <td>-1.453641</td>\n",
       "      <td>-1.833037</td>\n",
       "      <td>-0.265162</td>\n",
       "      <td>-0.424747</td>\n",
       "    </tr>\n",
       "    <tr>\n",
       "      <th>26</th>\n",
       "      <td>-1.453641</td>\n",
       "      <td>-1.834005</td>\n",
       "      <td>-0.267679</td>\n",
       "      <td>-0.435756</td>\n",
       "    </tr>\n",
       "    <tr>\n",
       "      <th>27</th>\n",
       "      <td>-1.453641</td>\n",
       "      <td>-1.865074</td>\n",
       "      <td>-0.209541</td>\n",
       "      <td>0.012530</td>\n",
       "    </tr>\n",
       "    <tr>\n",
       "      <th>28</th>\n",
       "      <td>-1.453641</td>\n",
       "      <td>-1.866203</td>\n",
       "      <td>-0.210655</td>\n",
       "      <td>-0.088126</td>\n",
       "    </tr>\n",
       "    <tr>\n",
       "      <th>29</th>\n",
       "      <td>-1.453641</td>\n",
       "      <td>-1.867117</td>\n",
       "      <td>-0.210359</td>\n",
       "      <td>0.074151</td>\n",
       "    </tr>\n",
       "    <tr>\n",
       "      <th>...</th>\n",
       "      <td>...</td>\n",
       "      <td>...</td>\n",
       "      <td>...</td>\n",
       "      <td>...</td>\n",
       "    </tr>\n",
       "    <tr>\n",
       "      <th>434844</th>\n",
       "      <td>-0.120437</td>\n",
       "      <td>0.336208</td>\n",
       "      <td>1.444140</td>\n",
       "      <td>0.221767</td>\n",
       "    </tr>\n",
       "    <tr>\n",
       "      <th>434845</th>\n",
       "      <td>-0.120437</td>\n",
       "      <td>0.336773</td>\n",
       "      <td>1.444020</td>\n",
       "      <td>0.229472</td>\n",
       "    </tr>\n",
       "    <tr>\n",
       "      <th>434846</th>\n",
       "      <td>-0.120437</td>\n",
       "      <td>0.337268</td>\n",
       "      <td>1.443802</td>\n",
       "      <td>0.244624</td>\n",
       "    </tr>\n",
       "    <tr>\n",
       "      <th>434847</th>\n",
       "      <td>-0.120437</td>\n",
       "      <td>0.338106</td>\n",
       "      <td>1.443324</td>\n",
       "      <td>0.225304</td>\n",
       "    </tr>\n",
       "    <tr>\n",
       "      <th>434848</th>\n",
       "      <td>-0.120437</td>\n",
       "      <td>0.338842</td>\n",
       "      <td>1.442846</td>\n",
       "      <td>0.203946</td>\n",
       "    </tr>\n",
       "    <tr>\n",
       "      <th>434849</th>\n",
       "      <td>-0.120437</td>\n",
       "      <td>0.339633</td>\n",
       "      <td>1.442284</td>\n",
       "      <td>0.202372</td>\n",
       "    </tr>\n",
       "    <tr>\n",
       "      <th>434850</th>\n",
       "      <td>-0.120437</td>\n",
       "      <td>0.344703</td>\n",
       "      <td>1.459549</td>\n",
       "      <td>0.446238</td>\n",
       "    </tr>\n",
       "    <tr>\n",
       "      <th>434851</th>\n",
       "      <td>-0.120437</td>\n",
       "      <td>0.338499</td>\n",
       "      <td>1.433631</td>\n",
       "      <td>0.134834</td>\n",
       "    </tr>\n",
       "    <tr>\n",
       "      <th>434852</th>\n",
       "      <td>-0.120437</td>\n",
       "      <td>0.337627</td>\n",
       "      <td>1.433904</td>\n",
       "      <td>0.124519</td>\n",
       "    </tr>\n",
       "    <tr>\n",
       "      <th>434853</th>\n",
       "      <td>-0.120437</td>\n",
       "      <td>0.331849</td>\n",
       "      <td>1.447532</td>\n",
       "      <td>0.143108</td>\n",
       "    </tr>\n",
       "    <tr>\n",
       "      <th>434854</th>\n",
       "      <td>-0.120437</td>\n",
       "      <td>0.331642</td>\n",
       "      <td>1.445295</td>\n",
       "      <td>0.143082</td>\n",
       "    </tr>\n",
       "    <tr>\n",
       "      <th>434855</th>\n",
       "      <td>-0.120437</td>\n",
       "      <td>0.331608</td>\n",
       "      <td>1.444837</td>\n",
       "      <td>0.152360</td>\n",
       "    </tr>\n",
       "    <tr>\n",
       "      <th>434856</th>\n",
       "      <td>-0.120437</td>\n",
       "      <td>0.331385</td>\n",
       "      <td>1.444638</td>\n",
       "      <td>0.150090</td>\n",
       "    </tr>\n",
       "    <tr>\n",
       "      <th>434857</th>\n",
       "      <td>-0.120437</td>\n",
       "      <td>0.331266</td>\n",
       "      <td>1.444419</td>\n",
       "      <td>0.161169</td>\n",
       "    </tr>\n",
       "    <tr>\n",
       "      <th>434858</th>\n",
       "      <td>-0.120437</td>\n",
       "      <td>0.331197</td>\n",
       "      <td>1.443623</td>\n",
       "      <td>0.163453</td>\n",
       "    </tr>\n",
       "    <tr>\n",
       "      <th>434859</th>\n",
       "      <td>-0.120437</td>\n",
       "      <td>0.331009</td>\n",
       "      <td>1.441552</td>\n",
       "      <td>0.177811</td>\n",
       "    </tr>\n",
       "    <tr>\n",
       "      <th>434860</th>\n",
       "      <td>-0.120437</td>\n",
       "      <td>0.330975</td>\n",
       "      <td>1.440377</td>\n",
       "      <td>0.135134</td>\n",
       "    </tr>\n",
       "    <tr>\n",
       "      <th>434861</th>\n",
       "      <td>-0.120437</td>\n",
       "      <td>0.330770</td>\n",
       "      <td>1.439680</td>\n",
       "      <td>0.087669</td>\n",
       "    </tr>\n",
       "    <tr>\n",
       "      <th>434862</th>\n",
       "      <td>-0.120437</td>\n",
       "      <td>0.330308</td>\n",
       "      <td>1.438923</td>\n",
       "      <td>-0.023594</td>\n",
       "    </tr>\n",
       "    <tr>\n",
       "      <th>434863</th>\n",
       "      <td>-0.120437</td>\n",
       "      <td>0.329607</td>\n",
       "      <td>1.438346</td>\n",
       "      <td>-0.083563</td>\n",
       "    </tr>\n",
       "    <tr>\n",
       "      <th>434864</th>\n",
       "      <td>-0.120437</td>\n",
       "      <td>0.329196</td>\n",
       "      <td>1.438027</td>\n",
       "      <td>-0.111846</td>\n",
       "    </tr>\n",
       "    <tr>\n",
       "      <th>434865</th>\n",
       "      <td>-0.120437</td>\n",
       "      <td>0.328752</td>\n",
       "      <td>1.437828</td>\n",
       "      <td>-0.104066</td>\n",
       "    </tr>\n",
       "    <tr>\n",
       "      <th>434866</th>\n",
       "      <td>-0.120437</td>\n",
       "      <td>0.328324</td>\n",
       "      <td>1.437828</td>\n",
       "      <td>-0.139553</td>\n",
       "    </tr>\n",
       "    <tr>\n",
       "      <th>434867</th>\n",
       "      <td>-0.120437</td>\n",
       "      <td>0.327777</td>\n",
       "      <td>1.437788</td>\n",
       "      <td>-0.149318</td>\n",
       "    </tr>\n",
       "    <tr>\n",
       "      <th>434868</th>\n",
       "      <td>-0.120437</td>\n",
       "      <td>0.327127</td>\n",
       "      <td>1.437449</td>\n",
       "      <td>-0.114603</td>\n",
       "    </tr>\n",
       "    <tr>\n",
       "      <th>434869</th>\n",
       "      <td>-0.120437</td>\n",
       "      <td>0.326203</td>\n",
       "      <td>1.436812</td>\n",
       "      <td>-0.110182</td>\n",
       "    </tr>\n",
       "    <tr>\n",
       "      <th>434870</th>\n",
       "      <td>-0.120437</td>\n",
       "      <td>0.324955</td>\n",
       "      <td>1.435916</td>\n",
       "      <td>-0.086181</td>\n",
       "    </tr>\n",
       "    <tr>\n",
       "      <th>434871</th>\n",
       "      <td>-0.120437</td>\n",
       "      <td>0.323860</td>\n",
       "      <td>1.435418</td>\n",
       "      <td>-0.131715</td>\n",
       "    </tr>\n",
       "    <tr>\n",
       "      <th>434872</th>\n",
       "      <td>-0.120437</td>\n",
       "      <td>0.337360</td>\n",
       "      <td>1.423800</td>\n",
       "      <td>0.098916</td>\n",
       "    </tr>\n",
       "    <tr>\n",
       "      <th>434873</th>\n",
       "      <td>-0.120437</td>\n",
       "      <td>0.337317</td>\n",
       "      <td>1.425013</td>\n",
       "      <td>0.131587</td>\n",
       "    </tr>\n",
       "  </tbody>\n",
       "</table>\n",
       "<p>434874 rows × 4 columns</p>\n",
       "</div>"
      ],
      "text/plain": [
       "              id  longtitude  latitude  altitude\n",
       "0       1.236558   -0.608892 -1.184481 -0.275681\n",
       "1       1.236558   -0.608350 -1.185162 -0.245492\n",
       "2       1.236558   -0.607776 -1.185625 -0.220318\n",
       "3       1.236558   -0.607366 -1.185832 -0.209794\n",
       "4       1.236558   -0.606972 -1.185826 -0.202086\n",
       "5       1.236558   -0.606300 -1.185771 -0.164385\n",
       "6       1.236558   -0.605260 -1.185576 -0.139371\n",
       "7       1.236558   -0.604793 -1.185442 -0.137697\n",
       "8       1.236558   -0.604532 -1.185333 -0.135647\n",
       "9       1.236558   -0.604306 -1.185217 -0.144738\n",
       "10      1.236558   -0.603748 -1.184741 -0.158725\n",
       "11      1.236558   -0.603225 -1.184382 -0.212275\n",
       "12      1.236558   -0.602707 -1.184053 -0.246244\n",
       "13      1.236558   -0.601989 -1.183846 -0.243905\n",
       "14      1.236558   -0.601348 -1.183529 -0.203455\n",
       "15      1.236558   -0.601020 -1.183340 -0.178368\n",
       "16      1.236558   -0.600498 -1.183121 -0.211498\n",
       "17      1.236558   -0.600144 -1.183048 -0.223723\n",
       "18      1.236558   -0.599754 -1.183024 -0.207480\n",
       "19     -1.453641   -1.827012 -0.252598  0.531327\n",
       "20     -1.453641   -1.827778 -0.254891  0.350577\n",
       "21     -1.453641   -1.830581 -0.258552  0.133332\n",
       "22     -1.453641   -1.831044 -0.259800 -0.019722\n",
       "23     -1.453641   -1.831954 -0.262250 -0.270884\n",
       "24     -1.453641   -1.832022 -0.262432 -0.276442\n",
       "25     -1.453641   -1.833037 -0.265162 -0.424747\n",
       "26     -1.453641   -1.834005 -0.267679 -0.435756\n",
       "27     -1.453641   -1.865074 -0.209541  0.012530\n",
       "28     -1.453641   -1.866203 -0.210655 -0.088126\n",
       "29     -1.453641   -1.867117 -0.210359  0.074151\n",
       "...          ...         ...       ...       ...\n",
       "434844 -0.120437    0.336208  1.444140  0.221767\n",
       "434845 -0.120437    0.336773  1.444020  0.229472\n",
       "434846 -0.120437    0.337268  1.443802  0.244624\n",
       "434847 -0.120437    0.338106  1.443324  0.225304\n",
       "434848 -0.120437    0.338842  1.442846  0.203946\n",
       "434849 -0.120437    0.339633  1.442284  0.202372\n",
       "434850 -0.120437    0.344703  1.459549  0.446238\n",
       "434851 -0.120437    0.338499  1.433631  0.134834\n",
       "434852 -0.120437    0.337627  1.433904  0.124519\n",
       "434853 -0.120437    0.331849  1.447532  0.143108\n",
       "434854 -0.120437    0.331642  1.445295  0.143082\n",
       "434855 -0.120437    0.331608  1.444837  0.152360\n",
       "434856 -0.120437    0.331385  1.444638  0.150090\n",
       "434857 -0.120437    0.331266  1.444419  0.161169\n",
       "434858 -0.120437    0.331197  1.443623  0.163453\n",
       "434859 -0.120437    0.331009  1.441552  0.177811\n",
       "434860 -0.120437    0.330975  1.440377  0.135134\n",
       "434861 -0.120437    0.330770  1.439680  0.087669\n",
       "434862 -0.120437    0.330308  1.438923 -0.023594\n",
       "434863 -0.120437    0.329607  1.438346 -0.083563\n",
       "434864 -0.120437    0.329196  1.438027 -0.111846\n",
       "434865 -0.120437    0.328752  1.437828 -0.104066\n",
       "434866 -0.120437    0.328324  1.437828 -0.139553\n",
       "434867 -0.120437    0.327777  1.437788 -0.149318\n",
       "434868 -0.120437    0.327127  1.437449 -0.114603\n",
       "434869 -0.120437    0.326203  1.436812 -0.110182\n",
       "434870 -0.120437    0.324955  1.435916 -0.086181\n",
       "434871 -0.120437    0.323860  1.435418 -0.131715\n",
       "434872 -0.120437    0.337360  1.423800  0.098916\n",
       "434873 -0.120437    0.337317  1.425013  0.131587\n",
       "\n",
       "[434874 rows x 4 columns]"
      ]
     },
     "execution_count": 36,
     "metadata": {},
     "output_type": "execute_result"
    }
   ],
   "source": [
    "#Normalizing Data\n",
    "df = (df-df.mean())/df.std()\n",
    "df"
   ]
  },
  {
   "cell_type": "code",
   "execution_count": 9,
   "metadata": {},
   "outputs": [],
   "source": [
    "valueArray = df.to_numpy()\n",
    "#Splitting dataset using 70-30 cross validation technique\n",
    "train_size = int(0.7 * valueArray.shape[0])\n",
    "train_X = valueArray[0:train_size, 1:3]\n",
    "train_X = np.insert(train_X,0,1,axis=1) #Adding bias\n",
    "train_Y = valueArray[0:train_size, 3:]\n",
    "test_X = valueArray[train_size + 1:, 1:3]\n",
    "test_X = np.insert(test_X,0,1,axis=1) #Adding bias\n",
    "test_Y = valueArray[train_size + 1:, 3:]"
   ]
  },
  {
   "cell_type": "code",
   "execution_count": 10,
   "metadata": {},
   "outputs": [],
   "source": [
    "\n",
    "def gradientDescent(X, Y, alpha, maxIterations, weights):\n",
    "    \"\"\"\n",
    "    This function implements all the batch gradient descent with no regularization.\n",
    "    At each iteration all the weights are updated with gradient calculated\n",
    "    over all training points\n",
    "    \"\"\"\n",
    "    costs = []\n",
    "    iters = []\n",
    "    trainX = X\n",
    "    trainY = Y\n",
    "    m = trainX.shape[0]\n",
    "    prevCost, currCost = 0.0, 0.0\n",
    "    for iteration in range(maxIterations):\n",
    "        gradient = np.sum(trainX * (trainX @ weights.T - trainY), axis=0)\n",
    "        currCost = np.sum(np.power(((trainX @ weights.T) - trainY),2))/(2 * m)\n",
    "        weights = weights - (alpha/m) * gradient\n",
    "        #Plotting loss over train set for every 20 iterations\n",
    "        if iteration % 20 == 0:\n",
    "            costs.append(currCost)\n",
    "            iters.append(iteration + 1)\n",
    "        #Stopping Criterion\n",
    "        if iteration != 0 and abs(prevCost - currCost) < 1e-10:\n",
    "            break\n",
    "        prevCost = currCost\n",
    "    print(\"Optimal Cost is {}\".format(currCost))\n",
    "    print(\"Converting at {}th iteration with learning rate {}\".format(iteration+1,alpha))\n",
    "    plt.title(\"Gradient Descent\")\n",
    "    plt.xlabel(\"No Of Iterations\")\n",
    "    plt.ylabel(\"Cost\")\n",
    "    plt.plot(iters,costs)\n",
    "    plt.show()\n",
    "    return weights"
   ]
  },
  {
   "cell_type": "code",
   "execution_count": 11,
   "metadata": {},
   "outputs": [],
   "source": [
    "def gradientDescentWithL1Regularization(X, Y, alpha, maxIterations, weights, regParameter):\n",
    "    \"\"\"\n",
    "    This function implements the gradient descents with L1 norm regularization.\n",
    "    At each iteration all the weights are updated with gradient calculated\n",
    "    over all training points\n",
    "    \"\"\"\n",
    "    costs = []\n",
    "    iters = []    \n",
    "    shuffledData = np.concatenate((X, Y), axis = 1)\n",
    "    np.random.shuffle(shuffledData)\n",
    "    validationSize = int(0.1 * X.shape[0])\n",
    "    validationX = X[0:validationSize]\n",
    "    trainX = X[validationSize+1:]\n",
    "    validationY =  Y[0:validationSize]\n",
    "    trainY = Y[validationSize+1:]\n",
    "    m = trainX.shape[0]\n",
    "    prevCost, currCost = 0.0, 0.0\n",
    "    for iteration in range(maxIterations):\n",
    "        c = (regParameter)/(2 * m)\n",
    "        gradient = np.sum(trainX * (trainX @ weights.T - trainY), axis=0) + c * np.sign(weights)\n",
    "        weightList = [weights[0][0], weights[0][1], weights[0][2]]\n",
    "        weightList = np.asarray(weightList)\n",
    "        currCost = np.sum(np.power(((trainX @ weights.T) - trainY),2))/(2 * m) + regParameter/(2 * m) * np.linalg.norm(weightList, 1) \n",
    "        weights = weights - (alpha/m) * gradient\n",
    "        #Plotting loss over train set for every 20 iterations\n",
    "        if iteration%20 == 0:\n",
    "            costs.append(currCost)\n",
    "            iters.append(iteration + 1) \n",
    "        #Stopping Criterion\n",
    "        if iteration != 0 and abs(prevCost - currCost) < 1e-10:\n",
    "            break\n",
    "        prevCost = currCost\n",
    "    print(\"Optimal Cost is {}\".format(currCost))\n",
    "    print(\"Converting at {}th iteration with learning rate {} and {} regularization parameter\".format(iteration+1,alpha,regParameter))\n",
    "    plt.title(\"Gradient Descent\")\n",
    "    plt.xlabel(\"No Of Iterations\")\n",
    "    plt.ylabel(\"Cost\")\n",
    "    plt.plot(iters,costs)\n",
    "    plt.show()\n",
    "    return weights"
   ]
  },
  {
   "cell_type": "code",
   "execution_count": 12,
   "metadata": {},
   "outputs": [],
   "source": [
    "def gradientDescentWithL2Regularization(X, Y, alpha, maxIterations, weights, regParameter):\n",
    "    \"\"\"\n",
    "    This function implements the gradient descents with L2 norm regularization.\n",
    "    At each iteration all the weights are updated with gradient calculated\n",
    "    over all training points. \n",
    "    \"\"\"\n",
    "    costs = []\n",
    "    iters = []    \n",
    "    shuffledData = np.concatenate((X, Y), axis = 1)\n",
    "    np.random.shuffle(shuffledData)\n",
    "    validationSize = int(0.1 * X.shape[0])\n",
    "    validationX = X[0:validationSize]\n",
    "    trainX = X[validationSize+1:]\n",
    "    validationY =  Y[0:validationSize]\n",
    "    trainY = Y[validationSize+1:]\n",
    "    m = trainX.shape[0]\n",
    "    prevCost, currCost = 0.0, 0.0\n",
    "    for iteration in range(maxIterations):\n",
    "        gradient = np.sum(trainX * (trainX @ weights.T - trainY), axis=0)\n",
    "        weightList = [weights[0][0], weights[0][1], weights[0][2]]\n",
    "        weightList = np.asarray(weightList)\n",
    "        currCost = np.sum(np.power(((trainX @ weights.T) - trainY),2))/(2 * m) + regParameter/(2 * m) * np.linalg.norm(weightList, 2) \n",
    "        weights = (1 - alpha*regParameter/m)*weights - (alpha/m) * gradient\n",
    "        #Plotting loss over train set for every 20 iterations\n",
    "        if iteration%20 == 0:\n",
    "            costs.append(currCost)\n",
    "            iters.append(iteration + 1)\n",
    "        #Stopping Criterion\n",
    "        if iteration != 0 and abs(prevCost - currCost) < 1e-10:\n",
    "            break\n",
    "        prevCost = currCost\n",
    "    print(\"Optimal Cost is {}\".format(currCost))\n",
    "    print(\"Converting at {}th iteration with learning rate {} and {} regularization parameter\".format(iteration+1,alpha,regParameter))                             \n",
    "    plt.title(\"Gradient Descent\")\n",
    "    plt.xlabel(\"No Of Iterations\")\n",
    "    plt.ylabel(\"Cost\")\n",
    "    plt.plot(iters,costs)\n",
    "    plt.show()\n",
    "    return weights"
   ]
  },
  {
   "cell_type": "code",
   "execution_count": 13,
   "metadata": {},
   "outputs": [],
   "source": [
    "def stochasticGradientDescent(X, Y, alpha, maxIterations, weights):\n",
    "    \"\"\"\n",
    "    This function implements stochastic gradient descent.\n",
    "    In each iteration, gradient is calculated w.r.t. each training example\n",
    "    so weights are updated 'm' times in each iteration.\n",
    "    \"\"\"\n",
    "    costs = []\n",
    "    iters = []\n",
    "    shuffledData = np.concatenate((X, Y), axis = 1)\n",
    "    np.random.shuffle(shuffledData)\n",
    "    trainX = shuffledData[:, 0 : 3]\n",
    "    trainY = shuffledData[:, 3 :]\n",
    "    m = trainX.shape[0]\n",
    "    prevCost, currCost = 0.0, 0.0\n",
    "    for iteration in range(maxIterations):\n",
    "        for i in range(m):\n",
    "            gradient = trainX[i].dot(weights.T) - trainY[i]\n",
    "            weights = weights - (alpha/m) * (gradient * trainX[i])\n",
    "        currCost = np.sum(np.power(((trainX @ weights.T) - trainY),2))/(2 * m)\n",
    "        if iteration%20 == 0:\n",
    "            costs.append(currCost)\n",
    "            iters.append(iteration + 1)    \n",
    "        #Stopping Criterion\n",
    "        if iteration != 0 and abs(prevCost - currCost) < 1e-5:\n",
    "            break\n",
    "        prevCost = currCost\n",
    "        \n",
    "    print(\"Optimal Cost is {}\".format(currCost))\n",
    "    print(\"Converting at {}th iteration with learning rate {}\".format(iteration+1,alpha))        \n",
    "    plt.title(\"Stochastic Gradient Descent\")\n",
    "    plt.xlabel(\"No Of Iterations\")\n",
    "    plt.ylabel(\"Cost\")\n",
    "    plt.plot(iters,costs)\n",
    "    plt.show()\n",
    "    return weights\n"
   ]
  },
  {
   "cell_type": "code",
   "execution_count": 14,
   "metadata": {},
   "outputs": [],
   "source": [
    "def normalEquations(X, Y):\n",
    "    \"\"\"\n",
    "    This function implements vectorization based linear regression.\n",
    "    AW = B where A = X^T.X, B = X^T.Y. This is known as Normal Equation\n",
    "    W = inv(A).B\n",
    "    \"\"\"  \n",
    "    trainX = X\n",
    "    trainY = Y\n",
    "    A = trainX.T.dot(trainX)\n",
    "    B = trainX.T.dot(trainY)\n",
    "    weights = np.linalg.inv(A).dot(B)\n",
    "    return weights\n"
   ]
  },
  {
   "cell_type": "code",
   "execution_count": 15,
   "metadata": {},
   "outputs": [],
   "source": [
    "#Training our models"
   ]
  },
  {
   "cell_type": "code",
   "execution_count": 16,
   "metadata": {},
   "outputs": [
    {
     "name": "stdout",
     "output_type": "stream",
     "text": [
      "Optimal Cost is 0.49843225035306166\n",
      "Converting at 1637th iteration with learning rate 0.01\n"
     ]
    },
    {
     "data": {
      "image/png": "[encoded data removed]",
      "text/plain": [
       "<Figure size 432x288 with 1 Axes>"
      ]
     },
     "metadata": {
      "needs_background": "light"
     },
     "output_type": "display_data"
    }
   ],
   "source": [
    "batch_weights = gradientDescent(train_X, train_Y, 0.01, 2000, np.zeros([1,3]))"
   ]
  },
  {
   "cell_type": "code",
   "execution_count": 17,
   "metadata": {},
   "outputs": [
    {
     "data": {
      "text/plain": [
       "array([[ 0.00703915,  0.15126783, -0.17967155]])"
      ]
     },
     "execution_count": 17,
     "metadata": {},
     "output_type": "execute_result"
    }
   ],
   "source": [
    "batch_weights"
   ]
  },
  {
   "cell_type": "code",
   "execution_count": 18,
   "metadata": {},
   "outputs": [
    {
     "name": "stdout",
     "output_type": "stream",
     "text": [
      "Optimal Cost is 0.5034406756246214\n",
      "Converting at 867th iteration with learning rate 0.02 and 0.7 regularization parameter\n"
     ]
    },
    {
     "data": {
      "image/png": "[encoded data removed]",
      "text/plain": [
       "<Figure size 432x288 with 1 Axes>"
      ]
     },
     "metadata": {
      "needs_background": "light"
     },
     "output_type": "display_data"
    }
   ],
   "source": [
    "L1_weights = gradientDescentWithL1Regularization(train_X, train_Y, 0.02, 2000, np.zeros([1,3]), 0.7)"
   ]
  },
  {
   "cell_type": "code",
   "execution_count": 19,
   "metadata": {},
   "outputs": [
    {
     "data": {
      "text/plain": [
       "array([[-0.00427202,  0.14669433, -0.17747619]])"
      ]
     },
     "execution_count": 19,
     "metadata": {},
     "output_type": "execute_result"
    }
   ],
   "source": [
    "L1_weights"
   ]
  },
  {
   "cell_type": "code",
   "execution_count": 20,
   "metadata": {},
   "outputs": [
    {
     "name": "stdout",
     "output_type": "stream",
     "text": [
      "Optimal Cost is 0.5034405942759956\n",
      "Converting at 1135th iteration with learning rate 0.015 and 0.8 regularization parameter\n"
     ]
    },
    {
     "data": {
      "image/png": "[encoded data removed]",
      "text/plain": [
       "<Figure size 432x288 with 1 Axes>"
      ]
     },
     "metadata": {
      "needs_background": "light"
     },
     "output_type": "display_data"
    }
   ],
   "source": [
    "L2_weights = gradientDescentWithL2Regularization(train_X, train_Y, 0.015, 2000, np.zeros([1,3]), 0.8)"
   ]
  },
  {
   "cell_type": "code",
   "execution_count": 21,
   "metadata": {},
   "outputs": [
    {
     "data": {
      "text/plain": [
       "array([[-0.00427118,  0.14667523, -0.17745728]])"
      ]
     },
     "execution_count": 21,
     "metadata": {},
     "output_type": "execute_result"
    }
   ],
   "source": [
    "L2_weights"
   ]
  },
  {
   "cell_type": "code",
   "execution_count": 22,
   "metadata": {},
   "outputs": [
    {
     "name": "stdout",
     "output_type": "stream",
     "text": [
      "Optimal Cost is 0.49866216575426614\n",
      "Converting at 93th iteration with learning rate 0.05\n"
     ]
    },
    {
     "data": {
      "image/png": "[encoded data removed]",
      "text/plain": [
       "<Figure size 432x288 with 1 Axes>"
      ]
     },
     "metadata": {
      "needs_background": "light"
     },
     "output_type": "display_data"
    }
   ],
   "source": [
    "stochastic_weights = stochasticGradientDescent(train_X, train_Y, 0.05, 250, np.zeros([1,3]))"
   ]
  },
  {
   "cell_type": "code",
   "execution_count": 23,
   "metadata": {},
   "outputs": [
    {
     "data": {
      "text/plain": [
       "array([[ 0.00768555,  0.12788922, -0.15663335]])"
      ]
     },
     "execution_count": 23,
     "metadata": {},
     "output_type": "execute_result"
    }
   ],
   "source": [
    "stochastic_weights"
   ]
  },
  {
   "cell_type": "code",
   "execution_count": 24,
   "metadata": {},
   "outputs": [],
   "source": [
    "normal_weights = normalEquations(train_X, train_Y)"
   ]
  },
  {
   "cell_type": "code",
   "execution_count": 25,
   "metadata": {},
   "outputs": [
    {
     "data": {
      "text/plain": [
       "array([[ 0.00703378],\n",
       "       [ 0.15143569],\n",
       "       [-0.17983689]])"
      ]
     },
     "execution_count": 25,
     "metadata": {},
     "output_type": "execute_result"
    }
   ],
   "source": [
    "normal_weights"
   ]
  },
  {
   "cell_type": "code",
   "execution_count": 29,
   "metadata": {},
   "outputs": [
    {
     "data": {
      "text/plain": [
       "array([[ 0.00703378,  0.15143569, -0.17983689]])"
      ]
     },
     "execution_count": 29,
     "metadata": {},
     "output_type": "execute_result"
    }
   ],
   "source": [
    "normal_eqns_weights = normal_weights.T\n",
    "normal_eqns_weights"
   ]
  },
  {
   "cell_type": "code",
   "execution_count": 33,
   "metadata": {},
   "outputs": [
    {
     "name": "stdout",
     "output_type": "stream",
     "text": [
      "[ 0.00703915  0.15126783 -0.17967155] \n",
      " [-0.00427202  0.14669433 -0.17747619] \n",
      " [-0.00427118  0.14667523 -0.17745728] \n",
      " [ 0.00768555  0.12788922 -0.15663335] \n",
      " [ 0.00703378  0.15143569 -0.17983689] \n",
      "\n"
     ]
    }
   ],
   "source": [
    "print(batch_weights[0],'\\n',L1_weights[0],'\\n',L2_weights[0],'\\n',stochastic_weights[0],'\\n',normal_eqns_weights[0],'\\n')"
   ]
  },
  {
   "cell_type": "code",
   "execution_count": 34,
   "metadata": {},
   "outputs": [
    {
     "data": {
      "text/plain": [
       "array([[1.        , 0.55964587, 1.18366755],\n",
       "       [1.        , 0.5575142 , 1.18490909],\n",
       "       [1.        , 0.5571039 , 1.18505867],\n",
       "       ...,\n",
       "       [1.        , 0.32386038, 1.43541823],\n",
       "       [1.        , 0.33736037, 1.42380047],\n",
       "       [1.        , 0.33731654, 1.42501299]])"
      ]
     },
     "execution_count": 34,
     "metadata": {},
     "output_type": "execute_result"
    }
   ],
   "source": [
    "test_X"
   ]
  },
  {
   "cell_type": "code",
   "execution_count": 35,
   "metadata": {},
   "outputs": [
    {
     "data": {
      "text/plain": [
       "array([[ 0.21113649],\n",
       "       [ 0.22721331],\n",
       "       [ 0.22348129],\n",
       "       ...,\n",
       "       [-0.13171477],\n",
       "       [ 0.09891563],\n",
       "       [ 0.13158671]])"
      ]
     },
     "execution_count": 35,
     "metadata": {},
     "output_type": "execute_result"
    }
   ],
   "source": [
    "test_Y"
   ]
  },
  {
   "cell_type": "code",
   "execution_count": 37,
   "metadata": {},
   "outputs": [
    {
     "data": {
      "text/plain": [
       "array([[ 1.        , -0.60889197, -1.18448067],\n",
       "       [ 1.        , -0.60835032, -1.18516189],\n",
       "       [ 1.        , -0.60777632, -1.18562479],\n",
       "       ...,\n",
       "       [ 1.        ,  0.55916416,  1.18552813],\n",
       "       [ 1.        ,  0.55903505,  1.18593714],\n",
       "       [ 1.        ,  0.55897734,  1.18612058]])"
      ]
     },
     "execution_count": 37,
     "metadata": {},
     "output_type": "execute_result"
    }
   ],
   "source": [
    "train_X"
   ]
  },
  {
   "cell_type": "code",
   "execution_count": 39,
   "metadata": {},
   "outputs": [
    {
     "data": {
      "text/plain": [
       "array([[-0.27568139],\n",
       "       [-0.24549184],\n",
       "       [-0.22031751],\n",
       "       ...,\n",
       "       [ 0.18122332],\n",
       "       [ 0.21007412],\n",
       "       [ 0.1905071 ]])"
      ]
     },
     "execution_count": 39,
     "metadata": {},
     "output_type": "execute_result"
    }
   ],
   "source": [
    "train_Y"
   ]
  },
  {
   "cell_type": "code",
   "execution_count": 40,
   "metadata": {},
   "outputs": [
    {
     "data": {
      "text/plain": [
       "0.5596458713701665"
      ]
     },
     "execution_count": 40,
     "metadata": {},
     "output_type": "execute_result"
    }
   ],
   "source": [
    "test_X[0][1]"
   ]
  },
  {
   "cell_type": "code",
   "execution_count": 41,
   "metadata": {},
   "outputs": [
    {
     "data": {
      "text/plain": [
       "1.1849090913412992"
      ]
     },
     "execution_count": 41,
     "metadata": {},
     "output_type": "execute_result"
    }
   ],
   "source": [
    "test_X[1][2]"
   ]
  },
  {
   "cell_type": "code",
   "execution_count": 50,
   "metadata": {},
   "outputs": [
    {
     "data": {
      "text/plain": [
       "array([[ 0.21113649,  0.22721331,  0.22348129, ..., -0.13171477,\n",
       "         0.09891563,  0.13158671]])"
      ]
     },
     "execution_count": 50,
     "metadata": {},
     "output_type": "execute_result"
    }
   ],
   "source": [
    "test_Y.T"
   ]
  },
  {
   "cell_type": "code",
   "execution_count": 51,
   "metadata": {},
   "outputs": [
    {
     "data": {
      "text/plain": [
       "array([ 0.21113649,  0.22721331,  0.22348129, ..., -0.13171477,\n",
       "        0.09891563,  0.13158671])"
      ]
     },
     "execution_count": 51,
     "metadata": {},
     "output_type": "execute_result"
    }
   ],
   "source": [
    "test_Y.T[0]"
   ]
  },
  {
   "cell_type": "code",
   "execution_count": 52,
   "metadata": {},
   "outputs": [],
   "source": [
    "y_test_actual = list(test_Y.T[0])\n",
    "y_train_actual = list(train_Y.T[0])"
   ]
  },
  {
   "cell_type": "code",
   "execution_count": 87,
   "metadata": {},
   "outputs": [],
   "source": [
    "def regression_output(weights,data_points):\n",
    "    \n",
    "    \"\"\"\n",
    "    This function gives the resulting output for the linear regression model developed\n",
    "    using any appropriate method by taking in the testing/training data as the input \n",
    "    and the weights/co-effecients of the regression model\n",
    "    \"\"\"\n",
    "    \n",
    "    result = []\n",
    "    for i  in range(data_points.shape[0]):\n",
    "        output = weights[0][0] + weights[0][1]*data_points[i][1] + weights[0][2]*data_points[i][2]\n",
    "        result.append(output)\n",
    "    return result"
   ]
  },
  {
   "cell_type": "code",
   "execution_count": 88,
   "metadata": {},
   "outputs": [],
   "source": [
    "y_train_grad = regression_output(batch_weights,train_X)"
   ]
  },
  {
   "cell_type": "code",
   "execution_count": 89,
   "metadata": {},
   "outputs": [],
   "source": [
    "y_test_grad = regression_output(batch_weights,test_X)"
   ]
  },
  {
   "cell_type": "code",
   "execution_count": 90,
   "metadata": {},
   "outputs": [],
   "source": [
    "y_train_L1 = regression_output(L1_weights,train_X)"
   ]
  },
  {
   "cell_type": "code",
   "execution_count": 91,
   "metadata": {},
   "outputs": [],
   "source": [
    "y_test_L1 = regression_output(L1_weights,test_X)"
   ]
  },
  {
   "cell_type": "code",
   "execution_count": 93,
   "metadata": {},
   "outputs": [],
   "source": [
    "y_train_L2 = regression_output(L2_weights,train_X)"
   ]
  },
  {
   "cell_type": "code",
   "execution_count": 94,
   "metadata": {},
   "outputs": [],
   "source": [
    "y_test_L2 = regression_output(L2_weights,test_X)"
   ]
  },
  {
   "cell_type": "code",
   "execution_count": 95,
   "metadata": {},
   "outputs": [],
   "source": [
    "y_train_sto = regression_output(stochastic_weights,train_X)"
   ]
  },
  {
   "cell_type": "code",
   "execution_count": 96,
   "metadata": {},
   "outputs": [],
   "source": [
    "y_test_sto = regression_output(stochastic_weights,test_X)"
   ]
  },
  {
   "cell_type": "code",
   "execution_count": 97,
   "metadata": {},
   "outputs": [],
   "source": [
    "y_train_nor = regression_output(normal_eqns_weights,train_X)"
   ]
  },
  {
   "cell_type": "code",
   "execution_count": 98,
   "metadata": {},
   "outputs": [],
   "source": [
    "y_test_nor = regression_output(normal_eqns_weights,test_X)"
   ]
  },
  {
   "cell_type": "code",
   "execution_count": 99,
   "metadata": {},
   "outputs": [],
   "source": [
    "rmse_grad_train = math.sqrt(mean_squared_error(y_train_actual, y_train_grad))\n",
    "rmse_grad_test = math.sqrt(mean_squared_error(y_test_actual, y_test_grad))\n",
    "rmse_L1_train = math.sqrt(mean_squared_error(y_train_actual, y_train_L1))\n",
    "rmse_L1_test = math.sqrt(mean_squared_error(y_test_actual, y_test_L1))\n",
    "rmse_L2_train = math.sqrt(mean_squared_error(y_train_actual, y_train_L2))\n",
    "rmse_L2_test = math.sqrt(mean_squared_error(y_test_actual, y_test_L2))\n",
    "rmse_sto_train = math.sqrt(mean_squared_error(y_train_actual, y_train_sto))\n",
    "rmse_sto_test = math.sqrt(mean_squared_error(y_test_actual, y_test_sto))\n",
    "rmse_nor_train = math.sqrt(mean_squared_error(y_train_actual, y_train_nor))\n",
    "rmse_nor_test = math.sqrt(mean_squared_error(y_test_actual, y_test_nor))"
   ]
  },
  {
   "cell_type": "code",
   "execution_count": 100,
   "metadata": {},
   "outputs": [],
   "source": [
    "r2_grad_train = r2_score(y_train_actual, y_train_grad)\n",
    "r2_grad_test = r2_score(y_test_actual, y_test_grad) \n",
    "r2_L1_train = r2_score(y_train_actual, y_train_L1)\n",
    "r2_L1_test = r2_score(y_test_actual, y_test_L1) \n",
    "r2_L2_train = r2_score(y_train_actual, y_train_L2)\n",
    "r2_L2_test = r2_score(y_test_actual, y_test_L2) \n",
    "r2_sto_train = r2_score(y_train_actual, y_train_sto)\n",
    "r2_sto_test = r2_score(y_test_actual, y_test_sto) \n",
    "r2_nor_train = r2_score(y_train_actual, y_train_nor)\n",
    "r2_nor_test = r2_score(y_test_actual, y_test_nor) "
   ]
  },
  {
   "cell_type": "code",
   "execution_count": 105,
   "metadata": {},
   "outputs": [],
   "source": [
    "results_dict = {'Regression Model': ['Gradient Descent', 'L1 Regularization', 'L2 Regularization','Stochastic Gradient Descent','Normal Equations'],\n",
    "              'RMSE Training data': [rmse_grad_train, rmse_L1_train, rmse_L2_train, rmse_sto_train, rmse_nor_train],\n",
    "              'R^2 Training data': [r2_grad_train, r2_L1_train, r2_L2_train, r2_sto_train, r2_nor_train],\n",
    "              'RMSE Testing data': [rmse_grad_test, rmse_L1_test, rmse_L2_test, rmse_sto_test, rmse_nor_test], \n",
    "              'R^2 Testing data': [r2_grad_test, r2_L1_test, r2_L2_test, r2_sto_test, r2_nor_test]}\n",
    "results_df = pd.DataFrame(data=results_dict)"
   ]
  },
  {
   "cell_type": "code",
   "execution_count": 106,
   "metadata": {},
   "outputs": [
    {
     "data": {
      "text/html": [
       "<div>\n",
       "<style scoped>\n",
       "    .dataframe tbody tr th:only-of-type {\n",
       "        vertical-align: middle;\n",
       "    }\n",
       "\n",
       "    .dataframe tbody tr th {\n",
       "        vertical-align: top;\n",
       "    }\n",
       "\n",
       "    .dataframe thead th {\n",
       "        text-align: right;\n",
       "    }\n",
       "</style>\n",
       "<table border=\"1\" class=\"dataframe\">\n",
       "  <thead>\n",
       "    <tr style=\"text-align: right;\">\n",
       "      <th></th>\n",
       "      <th>Regression Model</th>\n",
       "      <th>RMSE Training data</th>\n",
       "      <th>R^2 Training data</th>\n",
       "      <th>RMSE Testing data</th>\n",
       "      <th>R^2 Testing data</th>\n",
       "    </tr>\n",
       "  </thead>\n",
       "  <tbody>\n",
       "    <tr>\n",
       "      <th>0</th>\n",
       "      <td>Gradient Descent</td>\n",
       "      <td>0.998431</td>\n",
       "      <td>0.023311</td>\n",
       "      <td>0.959031</td>\n",
       "      <td>0.032822</td>\n",
       "    </tr>\n",
       "    <tr>\n",
       "      <th>1</th>\n",
       "      <td>L1 Regularization</td>\n",
       "      <td>0.998503</td>\n",
       "      <td>0.023171</td>\n",
       "      <td>0.958802</td>\n",
       "      <td>0.033285</td>\n",
       "    </tr>\n",
       "    <tr>\n",
       "      <th>2</th>\n",
       "      <td>L2 Regularization</td>\n",
       "      <td>0.998503</td>\n",
       "      <td>0.023171</td>\n",
       "      <td>0.958802</td>\n",
       "      <td>0.033284</td>\n",
       "    </tr>\n",
       "    <tr>\n",
       "      <th>3</th>\n",
       "      <td>Stochastic Gradient Descent</td>\n",
       "      <td>0.998661</td>\n",
       "      <td>0.022861</td>\n",
       "      <td>0.959640</td>\n",
       "      <td>0.031593</td>\n",
       "    </tr>\n",
       "    <tr>\n",
       "      <th>4</th>\n",
       "      <td>Normal Equations</td>\n",
       "      <td>0.998431</td>\n",
       "      <td>0.023311</td>\n",
       "      <td>0.959029</td>\n",
       "      <td>0.032827</td>\n",
       "    </tr>\n",
       "  </tbody>\n",
       "</table>\n",
       "</div>"
      ],
      "text/plain": [
       "              Regression Model  RMSE Training data  R^2 Training data  \\\n",
       "0             Gradient Descent            0.998431           0.023311   \n",
       "1            L1 Regularization            0.998503           0.023171   \n",
       "2            L2 Regularization            0.998503           0.023171   \n",
       "3  Stochastic Gradient Descent            0.998661           0.022861   \n",
       "4             Normal Equations            0.998431           0.023311   \n",
       "\n",
       "   RMSE Testing data  R^2 Testing data  \n",
       "0           0.959031          0.032822  \n",
       "1           0.958802          0.033285  \n",
       "2           0.958802          0.033284  \n",
       "3           0.959640          0.031593  \n",
       "4           0.959029          0.032827  "
      ]
     },
     "execution_count": 106,
     "metadata": {},
     "output_type": "execute_result"
    }
   ],
   "source": [
    "results_df"
   ]
  }
 ],
 "metadata": {
  "kernelspec": {
   "display_name": "Python 3",
   "language": "python",
   "name": "python3"
  },
  "language_info": {
   "codemirror_mode": {
    "name": "ipython",
    "version": 3
   },
   "file_extension": ".py",
   "mimetype": "text/x-python",
   "name": "python",
   "nbconvert_exporter": "python",
   "pygments_lexer": "ipython3",
   "version": "3.7.3"
  },
  "varInspector": {
   "cols": {
    "lenName": 16,
    "lenType": 16,
    "lenVar": 40
   },
   "kernels_config": {
    "python": {
     "delete_cmd_postfix": "",
     "delete_cmd_prefix": "del ",
     "library": "var_list.py",
     "varRefreshCmd": "print(var_dic_list())"
    },
    "r": {
     "delete_cmd_postfix": ") ",
     "delete_cmd_prefix": "rm(",
     "library": "var_list.r",
     "varRefreshCmd": "cat(var_dic_list()) "
    }
   },
   "types_to_exclude": [
    "module",
    "function",
    "builtin_function_or_method",
    "instance",
    "_Feature"
   ],
   "window_display": false
  }
 },
 "nbformat": 4,
 "nbformat_minor": 2
}
