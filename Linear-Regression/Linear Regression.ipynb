{
 "cells": [
  {
   "cell_type": "markdown",
   "metadata": {},
   "source": [
    "<center><h1>LINEAR REGRESSION</h1></center>"
   ]
  },
  {
   "cell_type": "markdown",
   "metadata": {},
   "source": [
    "![](assets/linear-regression.png)"
   ]
  },
  {
   "cell_type": "markdown",
   "metadata": {},
   "source": [
    "A regression problem is where the output is a real value like __stock price__, __weights__.\n",
    "\n",
    "In linear regression we assume the __output__ is related to the input variables (which are called __features__) in linear fashion."
   ]
  },
  {
   "cell_type": "markdown",
   "metadata": {},
   "source": [
    "Hypothesis (the value we predict) for a input vector X is given as ![](assets/hypothesis.png) when there are _2 features_ i.e. vector X = [x1 x2]"
   ]
  },
  {
   "cell_type": "markdown",
   "metadata": {},
   "source": [
    "[w0 w1 w2] is called weight vector which we need to find out so that cost is minimal"
   ]
  },
  {
   "cell_type": "markdown",
   "metadata": {},
   "source": [
    "What is cost?\n",
    "__Cost function__ is the average sum of absolute squares of the predicted value and actual value for all training input vectors"
   ]
  },
  {
   "cell_type": "markdown",
   "metadata": {},
   "source": [
    "![](assets/cost-function.png)"
   ]
  },
  {
   "cell_type": "markdown",
   "metadata": {},
   "source": [
    "We can take partial derivates w.r.t w0, w1, w2 and equate them to 0 and solve the three simultaneous equations to find out the weight values for at which cost function is minimum. But in real world scenarios, there are lot of features so solving those many equations is impractical."
   ]
  },
  {
   "cell_type": "markdown",
   "metadata": {},
   "source": [
    "So the approaches we are going to take :-\n",
    "1. Gradient Descent\n",
    "2. Stochastic Gradient Descent\n",
    "3. Gradient Descent along with L1 and L2 regularizations\n",
    "4. Normal Equations"
   ]
  },
  {
   "cell_type": "markdown",
   "metadata": {},
   "source": [
    "The problem statement :-\n",
    "\n",
    "<h3>Predict altitude values given longtitude and latitude values</h3>"
   ]
  },
  {
   "cell_type": "markdown",
   "metadata": {},
   "source": [
    "The dataset we are going to use is [link](https://archive.ics.uci.edu/ml/datasets/3D+Road+Network+(North+Jutland%2C+Denmark))"
   ]
  },
  {
   "cell_type": "markdown",
   "metadata": {},
   "source": [
    "We are going to implement all those 4 methods from scratch in python without using any external APIs like scikit-learn.\n",
    "\n",
    "However we are going to use\n",
    "* pandas library for data reading purposes\n",
    "* numpy library for all data manipulation purposes\n",
    "* matplotlib library to plot the results"
   ]
  },
  {
   "cell_type": "code",
   "execution_count": 1,
   "metadata": {},
   "outputs": [],
   "source": [
    "import pandas as pd\n",
    "import numpy as np\n",
    "import matplotlib.pyplot as plt\n",
    "%matplotlib inline"
   ]
  },
  {
   "cell_type": "code",
   "execution_count": 2,
   "metadata": {},
   "outputs": [],
   "source": [
    "df = pd.read_csv(\"assets/dataset.txt\", sep = \",\", names = [\"id\", \"longtitude\", \"latitude\", \"altitude\"])"
   ]
  },
  {
   "cell_type": "code",
   "execution_count": 3,
   "metadata": {},
   "outputs": [
    {
     "data": {
      "text/html": [
       "<div>\n",
       "<style scoped>\n",
       "    .dataframe tbody tr th:only-of-type {\n",
       "        vertical-align: middle;\n",
       "    }\n",
       "\n",
       "    .dataframe tbody tr th {\n",
       "        vertical-align: top;\n",
       "    }\n",
       "\n",
       "    .dataframe thead th {\n",
       "        text-align: right;\n",
       "    }\n",
       "</style>\n",
       "<table border=\"1\" class=\"dataframe\">\n",
       "  <thead>\n",
       "    <tr style=\"text-align: right;\">\n",
       "      <th></th>\n",
       "      <th>id</th>\n",
       "      <th>longtitude</th>\n",
       "      <th>latitude</th>\n",
       "      <th>altitude</th>\n",
       "    </tr>\n",
       "  </thead>\n",
       "  <tbody>\n",
       "    <tr>\n",
       "      <th>0</th>\n",
       "      <td>144552912</td>\n",
       "      <td>9.349849</td>\n",
       "      <td>56.740876</td>\n",
       "      <td>17.052772</td>\n",
       "    </tr>\n",
       "    <tr>\n",
       "      <th>1</th>\n",
       "      <td>144552912</td>\n",
       "      <td>9.350188</td>\n",
       "      <td>56.740679</td>\n",
       "      <td>17.614840</td>\n",
       "    </tr>\n",
       "    <tr>\n",
       "      <th>2</th>\n",
       "      <td>144552912</td>\n",
       "      <td>9.350549</td>\n",
       "      <td>56.740544</td>\n",
       "      <td>18.083536</td>\n",
       "    </tr>\n",
       "    <tr>\n",
       "      <th>3</th>\n",
       "      <td>144552912</td>\n",
       "      <td>9.350806</td>\n",
       "      <td>56.740484</td>\n",
       "      <td>18.279465</td>\n",
       "    </tr>\n",
       "    <tr>\n",
       "      <th>4</th>\n",
       "      <td>144552912</td>\n",
       "      <td>9.351053</td>\n",
       "      <td>56.740486</td>\n",
       "      <td>18.422974</td>\n",
       "    </tr>\n",
       "  </tbody>\n",
       "</table>\n",
       "</div>"
      ],
      "text/plain": [
       "          id  longtitude   latitude   altitude\n",
       "0  144552912    9.349849  56.740876  17.052772\n",
       "1  144552912    9.350188  56.740679  17.614840\n",
       "2  144552912    9.350549  56.740544  18.083536\n",
       "3  144552912    9.350806  56.740484  18.279465\n",
       "4  144552912    9.351053  56.740486  18.422974"
      ]
     },
     "execution_count": 3,
     "metadata": {},
     "output_type": "execute_result"
    }
   ],
   "source": [
    "df.head()"
   ]
  },
  {
   "cell_type": "code",
   "execution_count": 4,
   "metadata": {},
   "outputs": [],
   "source": [
    "df = (df-df.mean())/df.std()"
   ]
  },
  {
   "cell_type": "code",
   "execution_count": 5,
   "metadata": {},
   "outputs": [],
   "source": [
    "valueArray = df.to_numpy()"
   ]
  },
  {
   "cell_type": "code",
   "execution_count": 6,
   "metadata": {},
   "outputs": [],
   "source": [
    "#Splitting dataset using 70-30 cross validation technique\n",
    "train_size = int(0.7 * valueArray.shape[0])\n",
    "train_X = valueArray[0:train_size, 1:3]\n",
    "train_X = np.insert(train_X,0,1,axis=1) #Adding bias\n",
    "train_Y = valueArray[0:train_size, 3:]\n",
    "test_X = valueArray[train_size + 1:, 1:3]\n",
    "test_X = np.insert(test_X,0,1,axis=1) #Adding bias\n",
    "test_Y = valueArray[train_size + 1:, 3:]"
   ]
  },
  {
   "cell_type": "code",
   "execution_count": 7,
   "metadata": {},
   "outputs": [],
   "source": [
    "def costFunction(X, Y, weights, norm, regParameter):\n",
    "    m = X.shape[0]\n",
    "    weightList = [weights[0][0], weights[0][1], weights[0][2]]\n",
    "    weightList = np.asarray(weightList)\n",
    "    if norm == \"L1 norm\":\n",
    "        return np.sum(np.power(((X @ weights.T) - Y),2))/(2 * m) + regParameter/(2 * m) * np.linalg.norm(weightList, 1) \n",
    "    elif norm == \"L2 norm\":\n",
    "        return np.sum(np.power(((X @ weights.T) - Y),2))/(2 * m) + regParameter/(2 * m) * np.linalg.norm(weightList, 2) \n",
    "    else:\n",
    "        return np.sum(np.power(((X @ weights.T) - Y),2))/(2 * m)"
   ]
  },
  {
   "cell_type": "code",
   "execution_count": 8,
   "metadata": {},
   "outputs": [],
   "source": [
    "def costFunctionDerivative(X, Y, weights, norm, regParameter):\n",
    "    if norm == \"L1 norm\":\n",
    "        c = (regParameter)/(2 * X.shape[0])\n",
    "        return np.sum(X * (X @ weights.T - Y), axis=0) + c * np.sign(weights)\n",
    "    elif norm == \"L2 norm\":\n",
    "        return np.sum(X * (X @ weights.T - Y), axis=0)\n",
    "    else:\n",
    "        return np.sum(X * (X @ weights.T - Y), axis=0)"
   ]
  },
  {
   "cell_type": "code",
   "execution_count": 35,
   "metadata": {},
   "outputs": [],
   "source": [
    "def gradientDescent(X, Y, alpha, maxIterations, weights):\n",
    "    \"\"\"\n",
    "    This function implements all the three gradient descents with no regularization.\n",
    "    At each iteration all the weights are updated with gradient calculated\n",
    "    over all training points\n",
    "    \"\"\"\n",
    "#     costs = np.zeros(maxIterations)\n",
    "#     iters = np.zeros(maxIterations)\n",
    "    costs = []\n",
    "    iters = []\n",
    "    trainX = X\n",
    "    trainY = Y\n",
    "    m = trainX.shape[0]\n",
    "    for iteration in range(maxIterations):\n",
    "        weights = weights - (alpha/m) * costFunctionDerivative(trainX, trainY, weights, \"\", 0)\n",
    "        if iteration%20 == 0:\n",
    "            costs.append(costFunction(trainX, trainY, weights, \"\", 0))\n",
    "            iters.append(iteration + 1)\n",
    "#         costs[iteration] = costFunction(trainX, trainY, weights, \"\", 0)\n",
    "#         iters[iteration] = iteration + 1\n",
    "    plt.title(\"Gradient Descent\")\n",
    "    plt.xlabel(\"No Of Iterations\")\n",
    "    plt.ylabel(\"Cost\")\n",
    "    plt.plot(iters,costs)\n",
    "    plt.show()\n",
    "    return weights"
   ]
  },
  {
   "cell_type": "code",
   "execution_count": 10,
   "metadata": {},
   "outputs": [],
   "source": [
    "def gradientDescentWithRegularization(X, Y, alpha, maxIterations, weights, regParameter, norm):\n",
    "    \"\"\"\n",
    "    This function implements the gradient descents with  L1 & L2 norm regularization.\n",
    "    At each iteration all the weights are updated with gradient calculated\n",
    "    over all training points\n",
    "    \"\"\"\n",
    "#     costs = np.zeros(maxIterations)\n",
    "#     iters = np.zeros(maxIterations)\n",
    "    costs = []\n",
    "    iters = []    \n",
    "    trainX = X\n",
    "    trainY = Y\n",
    "    m = trainX.shape[0]\n",
    "    for iteration in range(maxIterations):\n",
    "        if norm == \"L1 norm\":\n",
    "            weights = weights - (alpha/m) * costFunctionDerivative(trainX, trainY, weights, \"L1 norm\", regParameter)\n",
    "        elif norm == \"L2 norm\":\n",
    "            weights = (1 - alpha*regParameter/m)*weights - (alpha/m) * costFunctionDerivative(trainX, trainY, weights, \"L2 norm\", 0)\n",
    "        \n",
    "        if iteration%20 == 0:\n",
    "            costs.append(costFunction(trainX, trainY, weights, \"\", 0))\n",
    "            iters.append(iteration + 1)        \n",
    "#         costs[iteration] = costFunction(trainX, trainY, weights, norm, regParameter)\n",
    "#         iters[iteration] = iteration + 1\n",
    "    plt.title(\"Gradient Descent\")\n",
    "    plt.xlabel(\"No Of Iterations\")\n",
    "    plt.ylabel(\"Cost\")\n",
    "    plt.plot(iters,costs)\n",
    "    plt.show()\n",
    "    return weights"
   ]
  },
  {
   "cell_type": "code",
   "execution_count": 19,
   "metadata": {},
   "outputs": [],
   "source": [
    "def stochasticGradientDescent(X, Y, alpha, maxIterations, weights):\n",
    "    \"\"\"\n",
    "    This function implements stochastic gradient descent.\n",
    "    In each iteration, gradient is calculated w.r.t. each training example\n",
    "    so weights are updated 'm' times in each iteration.\n",
    "    \"\"\"\n",
    "#     costs = np.zeros(maxIterations)\n",
    "#     iters = np.zeros(maxIterations)\n",
    "    costs = []\n",
    "    iters = []\n",
    "    shuffledData = np.concatenate((X, Y), axis = 1)\n",
    "    np.random.shuffle(shuffledData)\n",
    "    trainX = shuffledData[:, 0 : 3]\n",
    "    trainY = shuffledData[:, 3 :]\n",
    "    m = trainX.shape[0]\n",
    "    for iteration in range(maxIterations):\n",
    "        for i in range(m):\n",
    "            delta = trainX[i] @ weights.T - trainY[i]\n",
    "            weights = weights - (alpha/m) * (delta * trainX[i])\n",
    "        if iteration%20 == 0:\n",
    "            costs.append(costFunction(trainX, trainY, weights, \"\", 0))\n",
    "            iters.append(iteration + 1)            \n",
    "#         costs[iteration] = costFunction(trainX, trainY, weights, \"\", 0)\n",
    "#         iters[iteration] = iteration + 1   \n",
    "    plt.title(\"Stochastic Gradient Descent\")\n",
    "    plt.xlabel(\"No Of Iterations\")\n",
    "    plt.ylabel(\"Cost\")\n",
    "    plt.plot(iters,costs)\n",
    "    plt.show()\n",
    "    return weights"
   ]
  },
  {
   "cell_type": "code",
   "execution_count": 12,
   "metadata": {},
   "outputs": [],
   "source": [
    "def normalEquations(X, Y):\n",
    "    \"\"\"\n",
    "    This function implements vectorization based linear regression.\n",
    "    W = (X^T X)^-1 X^T Y - This is known as Normal Equation\n",
    "    \"\"\"  \n",
    "    trainX = X\n",
    "    trainY = Y\n",
    "    weights = np.matmul(np.matmul(np.linalg.inv(np.matmul(trainX.transpose(),trainX)),trainX.transpose()),trainY)\n",
    "    return weights"
   ]
  },
  {
   "cell_type": "code",
   "execution_count": 22,
   "metadata": {},
   "outputs": [],
   "source": [
    "#Training our models"
   ]
  },
  {
   "cell_type": "code",
   "execution_count": 33,
   "metadata": {},
   "outputs": [
    {
     "data": {
      "image/png": "[encoded data removed]",
      "text/plain": [
       "<Figure size 432x288 with 1 Axes>"
      ]
     },
     "metadata": {
      "needs_background": "light"
     },
     "output_type": "display_data"
    }
   ],
   "source": [
    "batch_weights = gradientDescent(train_X, train_Y, 0.01, 1000, np.zeros([1,3]))"
   ]
  },
  {
   "cell_type": "code",
   "execution_count": 24,
   "metadata": {},
   "outputs": [
    {
     "data": {
      "image/png": "[encoded data removed]",
      "text/plain": [
       "<Figure size 432x288 with 1 Axes>"
      ]
     },
     "metadata": {
      "needs_background": "light"
     },
     "output_type": "display_data"
    }
   ],
   "source": [
    "L1_weights = gradientDescentWithRegularization(train_X, train_Y, 0.01, 1000, np.zeros([1,3]), 0.5, \"L1 norm\")"
   ]
  },
  {
   "cell_type": "code",
   "execution_count": 25,
   "metadata": {},
   "outputs": [
    {
     "data": {
      "image/png": "[encoded data removed]",
      "text/plain": [
       "<Figure size 432x288 with 1 Axes>"
      ]
     },
     "metadata": {
      "needs_background": "light"
     },
     "output_type": "display_data"
    }
   ],
   "source": [
    "L2_weights = gradientDescentWithRegularization(train_X, train_Y, 0.01, 1000, np.zeros([1,3]), 0.5, \"L2 norm\")"
   ]
  },
  {
   "cell_type": "code",
   "execution_count": 26,
   "metadata": {},
   "outputs": [
    {
     "data": {
      "image/png": "[encoded data removed]",
      "text/plain": [
       "<Figure size 432x288 with 1 Axes>"
      ]
     },
     "metadata": {
      "needs_background": "light"
     },
     "output_type": "display_data"
    }
   ],
   "source": [
    "stochastic_weights = stochasticGradientDescent(train_X, train_Y, 0.05, 200, np.zeros([1,3]))"
   ]
  },
  {
   "cell_type": "code",
   "execution_count": 27,
   "metadata": {},
   "outputs": [],
   "source": [
    "normal_weights = normalEquations(train_X, train_Y)"
   ]
  },
  {
   "cell_type": "code",
   "execution_count": 28,
   "metadata": {},
   "outputs": [],
   "source": [
    "#Testing our models"
   ]
  },
  {
   "cell_type": "code",
   "execution_count": null,
   "metadata": {},
   "outputs": [],
   "source": []
  }
 ],
 "metadata": {
  "kernelspec": {
   "display_name": "Python 3",
   "language": "python",
   "name": "python3"
  },
  "language_info": {
   "codemirror_mode": {
    "name": "ipython",
    "version": 3
   },
   "file_extension": ".py",
   "mimetype": "text/x-python",
   "name": "python",
   "nbconvert_exporter": "python",
   "pygments_lexer": "ipython3",
   "version": "3.7.3"
  },
  "varInspector": {
   "cols": {
    "lenName": 16,
    "lenType": 16,
    "lenVar": 40
   },
   "kernels_config": {
    "python": {
     "delete_cmd_postfix": "",
     "delete_cmd_prefix": "del ",
     "library": "var_list.py",
     "varRefreshCmd": "print(var_dic_list())"
    },
    "r": {
     "delete_cmd_postfix": ") ",
     "delete_cmd_prefix": "rm(",
     "library": "var_list.r",
     "varRefreshCmd": "cat(var_dic_list()) "
    }
   },
   "types_to_exclude": [
    "module",
    "function",
    "builtin_function_or_method",
    "instance",
    "_Feature"
   ],
   "window_display": false
  }
 },
 "nbformat": 4,
 "nbformat_minor": 2
}
